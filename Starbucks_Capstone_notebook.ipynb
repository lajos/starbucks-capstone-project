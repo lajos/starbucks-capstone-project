{
 "cells": [
  {
   "cell_type": "markdown",
   "metadata": {},
   "source": [
    "# Starbucks Capstone Challenge\n",
    "\n",
    "### Introduction\n",
    "\n",
    "This data set contains simulated data that mimics customer behavior on the Starbucks rewards mobile app. Once every few days, Starbucks sends out an offer to users of the mobile app. An offer can be merely an advertisement for a drink or an actual offer such as a discount or BOGO (buy one get one free). Some users might not receive any offer during certain weeks. \n",
    "\n",
    "Not all users receive the same offer, and that is the challenge to solve with this data set.\n",
    "\n",
    "Your task is to combine transaction, demographic and offer data to determine which demographic groups respond best to which offer type. This data set is a simplified version of the real Starbucks app because the underlying simulator only has one product whereas Starbucks actually sells dozens of products.\n",
    "\n",
    "Every offer has a validity period before the offer expires. As an example, a BOGO offer might be valid for only 5 days. You'll see in the data set that informational offers have a validity period even though these ads are merely providing information about a product; for example, if an informational offer has 7 days of validity, you can assume the customer is feeling the influence of the offer for 7 days after receiving the advertisement.\n",
    "\n",
    "You'll be given transactional data showing user purchases made on the app including the timestamp of purchase and the amount of money spent on a purchase. This transactional data also has a record for each offer that a user receives as well as a record for when a user actually views the offer. There are also records for when a user completes an offer. \n",
    "\n",
    "Keep in mind as well that someone using the app might make a purchase through the app without having received an offer or seen an offer.\n",
    "\n",
    "### Example\n",
    "\n",
    "To give an example, a user could receive a discount offer buy 10 dollars get 2 off on Monday. The offer is valid for 10 days from receipt. If the customer accumulates at least 10 dollars in purchases during the validity period, the customer completes the offer.\n",
    "\n",
    "However, there are a few things to watch out for in this data set. Customers do not opt into the offers that they receive; in other words, a user can receive an offer, never actually view the offer, and still complete the offer. For example, a user might receive the \"buy 10 dollars get 2 dollars off offer\", but the user never opens the offer during the 10 day validity period. The customer spends 15 dollars during those ten days. There will be an offer completion record in the data set; however, the customer was not influenced by the offer because the customer never viewed the offer.\n",
    "\n",
    "### Cleaning\n",
    "\n",
    "This makes data cleaning especially important and tricky.\n",
    "\n",
    "You'll also want to take into account that some demographic groups will make purchases even if they don't receive an offer. From a business perspective, if a customer is going to make a 10 dollar purchase without an offer anyway, you wouldn't want to send a buy 10 dollars get 2 dollars off offer. You'll want to try to assess what a certain demographic group will buy when not receiving any offers.\n",
    "\n",
    "### Final Advice\n",
    "\n",
    "Because this is a capstone project, you are free to analyze the data any way you see fit. For example, you could build a machine learning model that predicts how much someone will spend based on demographics and offer type. Or you could build a model that predicts whether or not someone will respond to an offer. Or, you don't need to build a machine learning model at all. You could develop a set of heuristics that determine what offer you should send to each customer (i.e., 75 percent of women customers who were 35 years old responded to offer A vs 40 percent from the same demographic to offer B, so send offer A)."
   ]
  },
  {
   "cell_type": "markdown",
   "metadata": {},
   "source": [
    "# Data Sets\n",
    "\n",
    "The data is contained in three files:\n",
    "\n",
    "* portfolio.json - containing offer ids and meta data about each offer (duration, type, etc.)\n",
    "* profile.json - demographic data for each customer\n",
    "* transcript.json - records for transactions, offers received, offers viewed, and offers completed\n",
    "\n",
    "Here is the schema and explanation of each variable in the files:\n",
    "\n",
    "**portfolio.json**\n",
    "* id (string) - offer id\n",
    "* offer_type (string) - type of offer ie BOGO, discount, informational\n",
    "* difficulty (int) - minimum required spend to complete an offer\n",
    "* reward (int) - reward given for completing an offer\n",
    "* duration (int) - time for offer to be open, in days\n",
    "* channels (list of strings)\n",
    "\n",
    "**profile.json**\n",
    "* age (int) - age of the customer \n",
    "* became_member_on (int) - date when customer created an app account\n",
    "* gender (str) - gender of the customer (note some entries contain 'O' for other rather than M or F)\n",
    "* id (str) - customer id\n",
    "* income (float) - customer's income\n",
    "\n",
    "**transcript.json**\n",
    "* event (str) - record description (ie transaction, offer received, offer viewed, etc.)\n",
    "* person (str) - customer id\n",
    "* time (int) - time in hours since start of test. The data begins at time t=0\n",
    "* value - (dict of strings) - either an offer id or transaction amount depending on the record"
   ]
  },
  {
   "cell_type": "code",
   "execution_count": 1,
   "metadata": {},
   "outputs": [
    {
     "data": {
      "application/javascript": "\n// remove vertical scroll bars from long output cells\n\nIPython.OutputArea.prototype._should_scroll = function(lines) {\n    return false;\n}\n",
      "text/plain": [
       "<IPython.core.display.Javascript object>"
      ]
     },
     "metadata": {},
     "output_type": "display_data"
    }
   ],
   "source": [
    "%%javascript\n",
    "\n",
    "// remove vertical scroll bars from long output cells\n",
    "\n",
    "IPython.OutputArea.prototype._should_scroll = function(lines) {\n",
    "    return false;\n",
    "}"
   ]
  },
  {
   "cell_type": "code",
   "execution_count": 2,
   "metadata": {},
   "outputs": [
    {
     "name": "stderr",
     "output_type": "stream",
     "text": [
      "/tmp/ipykernel_15267/745464124.py:11: DeprecationWarning: Importing display from IPython.core.display is deprecated since IPython 7.14, please import from IPython display\n",
      "  from IPython.core.display import display, HTML\n"
     ]
    }
   ],
   "source": [
    "import pandas as pd\n",
    "import numpy as np\n",
    "import math\n",
    "import json\n",
    "import seaborn as sns\n",
    "import matplotlib.pyplot as plt\n",
    "import datetime\n",
    "import re\n",
    "# from IPython import display\n",
    "# from IPython.core.display import HTML\n",
    "from IPython.core.display import display, HTML\n",
    "from tqdm.notebook import tqdm\n",
    "\n",
    "#%matplotlib notebook\n",
    "%matplotlib inline\n",
    "\n",
    "plt.rcParams['figure.dpi'] = 100\n",
    "\n"
   ]
  },
  {
   "cell_type": "code",
   "execution_count": 3,
   "metadata": {},
   "outputs": [],
   "source": [
    "# read in the json files\n",
    "portfolio = pd.read_json('data/portfolio.json', orient='records', lines=True)\n",
    "profile = pd.read_json('data/profile.json', orient='records', lines=True)\n",
    "transcript = pd.read_json('data/transcript.json', orient='records', lines=True)"
   ]
  },
  {
   "cell_type": "markdown",
   "metadata": {},
   "source": [
    "# A quick look at the data"
   ]
  },
  {
   "cell_type": "code",
   "execution_count": 4,
   "metadata": {},
   "outputs": [
    {
     "data": {
      "text/html": [
       "<hr>"
      ],
      "text/plain": [
       "<IPython.core.display.HTML object>"
      ]
     },
     "metadata": {},
     "output_type": "display_data"
    },
    {
     "data": {
      "text/html": [
       "<h2 style=\"text-align: center;\">portfolio DataFrame info</h2>"
      ],
      "text/plain": [
       "<IPython.core.display.HTML object>"
      ]
     },
     "metadata": {},
     "output_type": "display_data"
    },
    {
     "name": "stdout",
     "output_type": "stream",
     "text": [
      "number of rows: 10\n",
      "number of cols: 6\n"
     ]
    },
    {
     "data": {
      "text/html": [
       "<div>\n",
       "<style scoped>\n",
       "    .dataframe tbody tr th:only-of-type {\n",
       "        vertical-align: middle;\n",
       "    }\n",
       "\n",
       "    .dataframe tbody tr th {\n",
       "        vertical-align: top;\n",
       "    }\n",
       "\n",
       "    .dataframe thead th {\n",
       "        text-align: right;\n",
       "    }\n",
       "</style>\n",
       "<table border=\"1\" class=\"dataframe\">\n",
       "  <thead>\n",
       "    <tr style=\"text-align: right;\">\n",
       "      <th></th>\n",
       "      <th>reward</th>\n",
       "      <th>channels</th>\n",
       "      <th>difficulty</th>\n",
       "      <th>duration</th>\n",
       "      <th>offer_type</th>\n",
       "      <th>id</th>\n",
       "    </tr>\n",
       "  </thead>\n",
       "  <tbody>\n",
       "    <tr>\n",
       "      <th>0</th>\n",
       "      <td>10</td>\n",
       "      <td>[email, mobile, social]</td>\n",
       "      <td>10</td>\n",
       "      <td>7</td>\n",
       "      <td>bogo</td>\n",
       "      <td>ae264e3637204a6fb9bb56bc8210ddfd</td>\n",
       "    </tr>\n",
       "    <tr>\n",
       "      <th>1</th>\n",
       "      <td>10</td>\n",
       "      <td>[web, email, mobile, social]</td>\n",
       "      <td>10</td>\n",
       "      <td>5</td>\n",
       "      <td>bogo</td>\n",
       "      <td>4d5c57ea9a6940dd891ad53e9dbe8da0</td>\n",
       "    </tr>\n",
       "    <tr>\n",
       "      <th>2</th>\n",
       "      <td>0</td>\n",
       "      <td>[web, email, mobile]</td>\n",
       "      <td>0</td>\n",
       "      <td>4</td>\n",
       "      <td>informational</td>\n",
       "      <td>3f207df678b143eea3cee63160fa8bed</td>\n",
       "    </tr>\n",
       "    <tr>\n",
       "      <th>3</th>\n",
       "      <td>5</td>\n",
       "      <td>[web, email, mobile]</td>\n",
       "      <td>5</td>\n",
       "      <td>7</td>\n",
       "      <td>bogo</td>\n",
       "      <td>9b98b8c7a33c4b65b9aebfe6a799e6d9</td>\n",
       "    </tr>\n",
       "    <tr>\n",
       "      <th>4</th>\n",
       "      <td>5</td>\n",
       "      <td>[web, email]</td>\n",
       "      <td>20</td>\n",
       "      <td>10</td>\n",
       "      <td>discount</td>\n",
       "      <td>0b1e1539f2cc45b7b9fa7c272da2e1d7</td>\n",
       "    </tr>\n",
       "  </tbody>\n",
       "</table>\n",
       "</div>"
      ],
      "text/plain": [
       "   reward                      channels  difficulty  duration     offer_type  \\\n",
       "0      10       [email, mobile, social]          10         7           bogo   \n",
       "1      10  [web, email, mobile, social]          10         5           bogo   \n",
       "2       0          [web, email, mobile]           0         4  informational   \n",
       "3       5          [web, email, mobile]           5         7           bogo   \n",
       "4       5                  [web, email]          20        10       discount   \n",
       "\n",
       "                                 id  \n",
       "0  ae264e3637204a6fb9bb56bc8210ddfd  \n",
       "1  4d5c57ea9a6940dd891ad53e9dbe8da0  \n",
       "2  3f207df678b143eea3cee63160fa8bed  \n",
       "3  9b98b8c7a33c4b65b9aebfe6a799e6d9  \n",
       "4  0b1e1539f2cc45b7b9fa7c272da2e1d7  "
      ]
     },
     "metadata": {},
     "output_type": "display_data"
    },
    {
     "name": "stdout",
     "output_type": "stream",
     "text": [
      "columns:\n",
      "  reward (int64)\n",
      "  channels (object)\n",
      "  difficulty (int64)\n",
      "  duration (int64)\n",
      "  offer_type (object)\n",
      "    values:['bogo', 'discount', 'informational']\n",
      "      bogo: 4\n",
      "      discount: 4\n",
      "      informational: 2\n",
      "  id (object)\n"
     ]
    },
    {
     "data": {
      "text/html": [
       "<div>\n",
       "<style scoped>\n",
       "    .dataframe tbody tr th:only-of-type {\n",
       "        vertical-align: middle;\n",
       "    }\n",
       "\n",
       "    .dataframe tbody tr th {\n",
       "        vertical-align: top;\n",
       "    }\n",
       "\n",
       "    .dataframe thead th {\n",
       "        text-align: right;\n",
       "    }\n",
       "</style>\n",
       "<table border=\"1\" class=\"dataframe\">\n",
       "  <thead>\n",
       "    <tr style=\"text-align: right;\">\n",
       "      <th></th>\n",
       "      <th>reward</th>\n",
       "      <th>difficulty</th>\n",
       "      <th>duration</th>\n",
       "    </tr>\n",
       "  </thead>\n",
       "  <tbody>\n",
       "    <tr>\n",
       "      <th>count</th>\n",
       "      <td>10.000000</td>\n",
       "      <td>10.000000</td>\n",
       "      <td>10.000000</td>\n",
       "    </tr>\n",
       "    <tr>\n",
       "      <th>mean</th>\n",
       "      <td>4.200000</td>\n",
       "      <td>7.700000</td>\n",
       "      <td>6.500000</td>\n",
       "    </tr>\n",
       "    <tr>\n",
       "      <th>std</th>\n",
       "      <td>3.583915</td>\n",
       "      <td>5.831905</td>\n",
       "      <td>2.321398</td>\n",
       "    </tr>\n",
       "    <tr>\n",
       "      <th>min</th>\n",
       "      <td>0.000000</td>\n",
       "      <td>0.000000</td>\n",
       "      <td>3.000000</td>\n",
       "    </tr>\n",
       "    <tr>\n",
       "      <th>25%</th>\n",
       "      <td>2.000000</td>\n",
       "      <td>5.000000</td>\n",
       "      <td>5.000000</td>\n",
       "    </tr>\n",
       "    <tr>\n",
       "      <th>50%</th>\n",
       "      <td>4.000000</td>\n",
       "      <td>8.500000</td>\n",
       "      <td>7.000000</td>\n",
       "    </tr>\n",
       "    <tr>\n",
       "      <th>75%</th>\n",
       "      <td>5.000000</td>\n",
       "      <td>10.000000</td>\n",
       "      <td>7.000000</td>\n",
       "    </tr>\n",
       "    <tr>\n",
       "      <th>max</th>\n",
       "      <td>10.000000</td>\n",
       "      <td>20.000000</td>\n",
       "      <td>10.000000</td>\n",
       "    </tr>\n",
       "  </tbody>\n",
       "</table>\n",
       "</div>"
      ],
      "text/plain": [
       "          reward  difficulty   duration\n",
       "count  10.000000   10.000000  10.000000\n",
       "mean    4.200000    7.700000   6.500000\n",
       "std     3.583915    5.831905   2.321398\n",
       "min     0.000000    0.000000   3.000000\n",
       "25%     2.000000    5.000000   5.000000\n",
       "50%     4.000000    8.500000   7.000000\n",
       "75%     5.000000   10.000000   7.000000\n",
       "max    10.000000   20.000000  10.000000"
      ]
     },
     "metadata": {},
     "output_type": "display_data"
    },
    {
     "data": {
      "text/html": [
       "<hr>"
      ],
      "text/plain": [
       "<IPython.core.display.HTML object>"
      ]
     },
     "metadata": {},
     "output_type": "display_data"
    },
    {
     "data": {
      "text/html": [
       "<h2 style=\"text-align: center;\">profile DataFrame info</h2>"
      ],
      "text/plain": [
       "<IPython.core.display.HTML object>"
      ]
     },
     "metadata": {},
     "output_type": "display_data"
    },
    {
     "name": "stdout",
     "output_type": "stream",
     "text": [
      "number of rows: 17000\n",
      "number of cols: 5\n"
     ]
    },
    {
     "data": {
      "text/html": [
       "<div>\n",
       "<style scoped>\n",
       "    .dataframe tbody tr th:only-of-type {\n",
       "        vertical-align: middle;\n",
       "    }\n",
       "\n",
       "    .dataframe tbody tr th {\n",
       "        vertical-align: top;\n",
       "    }\n",
       "\n",
       "    .dataframe thead th {\n",
       "        text-align: right;\n",
       "    }\n",
       "</style>\n",
       "<table border=\"1\" class=\"dataframe\">\n",
       "  <thead>\n",
       "    <tr style=\"text-align: right;\">\n",
       "      <th></th>\n",
       "      <th>gender</th>\n",
       "      <th>age</th>\n",
       "      <th>id</th>\n",
       "      <th>became_member_on</th>\n",
       "      <th>income</th>\n",
       "    </tr>\n",
       "  </thead>\n",
       "  <tbody>\n",
       "    <tr>\n",
       "      <th>0</th>\n",
       "      <td>None</td>\n",
       "      <td>118</td>\n",
       "      <td>68be06ca386d4c31939f3a4f0e3dd783</td>\n",
       "      <td>20170212</td>\n",
       "      <td>NaN</td>\n",
       "    </tr>\n",
       "    <tr>\n",
       "      <th>1</th>\n",
       "      <td>F</td>\n",
       "      <td>55</td>\n",
       "      <td>0610b486422d4921ae7d2bf64640c50b</td>\n",
       "      <td>20170715</td>\n",
       "      <td>112000.0</td>\n",
       "    </tr>\n",
       "    <tr>\n",
       "      <th>2</th>\n",
       "      <td>None</td>\n",
       "      <td>118</td>\n",
       "      <td>38fe809add3b4fcf9315a9694bb96ff5</td>\n",
       "      <td>20180712</td>\n",
       "      <td>NaN</td>\n",
       "    </tr>\n",
       "    <tr>\n",
       "      <th>3</th>\n",
       "      <td>F</td>\n",
       "      <td>75</td>\n",
       "      <td>78afa995795e4d85b5d9ceeca43f5fef</td>\n",
       "      <td>20170509</td>\n",
       "      <td>100000.0</td>\n",
       "    </tr>\n",
       "    <tr>\n",
       "      <th>4</th>\n",
       "      <td>None</td>\n",
       "      <td>118</td>\n",
       "      <td>a03223e636434f42ac4c3df47e8bac43</td>\n",
       "      <td>20170804</td>\n",
       "      <td>NaN</td>\n",
       "    </tr>\n",
       "  </tbody>\n",
       "</table>\n",
       "</div>"
      ],
      "text/plain": [
       "  gender  age                                id  became_member_on    income\n",
       "0   None  118  68be06ca386d4c31939f3a4f0e3dd783          20170212       NaN\n",
       "1      F   55  0610b486422d4921ae7d2bf64640c50b          20170715  112000.0\n",
       "2   None  118  38fe809add3b4fcf9315a9694bb96ff5          20180712       NaN\n",
       "3      F   75  78afa995795e4d85b5d9ceeca43f5fef          20170509  100000.0\n",
       "4   None  118  a03223e636434f42ac4c3df47e8bac43          20170804       NaN"
      ]
     },
     "metadata": {},
     "output_type": "display_data"
    },
    {
     "name": "stdout",
     "output_type": "stream",
     "text": [
      "columns:\n",
      "  gender (object, NaN:2175)\n",
      "    values:['F', 'M', 'O']\n",
      "      F: 6129\n",
      "      M: 8484\n",
      "      O: 212\n",
      "  age (int64)\n",
      "  id (object)\n",
      "  became_member_on (int64)\n",
      "  income (float64, NaN:2175)\n"
     ]
    },
    {
     "data": {
      "text/html": [
       "<div>\n",
       "<style scoped>\n",
       "    .dataframe tbody tr th:only-of-type {\n",
       "        vertical-align: middle;\n",
       "    }\n",
       "\n",
       "    .dataframe tbody tr th {\n",
       "        vertical-align: top;\n",
       "    }\n",
       "\n",
       "    .dataframe thead th {\n",
       "        text-align: right;\n",
       "    }\n",
       "</style>\n",
       "<table border=\"1\" class=\"dataframe\">\n",
       "  <thead>\n",
       "    <tr style=\"text-align: right;\">\n",
       "      <th></th>\n",
       "      <th>age</th>\n",
       "      <th>became_member_on</th>\n",
       "      <th>income</th>\n",
       "    </tr>\n",
       "  </thead>\n",
       "  <tbody>\n",
       "    <tr>\n",
       "      <th>count</th>\n",
       "      <td>17000.000000</td>\n",
       "      <td>1.700000e+04</td>\n",
       "      <td>14825.000000</td>\n",
       "    </tr>\n",
       "    <tr>\n",
       "      <th>mean</th>\n",
       "      <td>62.531412</td>\n",
       "      <td>2.016703e+07</td>\n",
       "      <td>65404.991568</td>\n",
       "    </tr>\n",
       "    <tr>\n",
       "      <th>std</th>\n",
       "      <td>26.738580</td>\n",
       "      <td>1.167750e+04</td>\n",
       "      <td>21598.299410</td>\n",
       "    </tr>\n",
       "    <tr>\n",
       "      <th>min</th>\n",
       "      <td>18.000000</td>\n",
       "      <td>2.013073e+07</td>\n",
       "      <td>30000.000000</td>\n",
       "    </tr>\n",
       "    <tr>\n",
       "      <th>25%</th>\n",
       "      <td>45.000000</td>\n",
       "      <td>2.016053e+07</td>\n",
       "      <td>49000.000000</td>\n",
       "    </tr>\n",
       "    <tr>\n",
       "      <th>50%</th>\n",
       "      <td>58.000000</td>\n",
       "      <td>2.017080e+07</td>\n",
       "      <td>64000.000000</td>\n",
       "    </tr>\n",
       "    <tr>\n",
       "      <th>75%</th>\n",
       "      <td>73.000000</td>\n",
       "      <td>2.017123e+07</td>\n",
       "      <td>80000.000000</td>\n",
       "    </tr>\n",
       "    <tr>\n",
       "      <th>max</th>\n",
       "      <td>118.000000</td>\n",
       "      <td>2.018073e+07</td>\n",
       "      <td>120000.000000</td>\n",
       "    </tr>\n",
       "  </tbody>\n",
       "</table>\n",
       "</div>"
      ],
      "text/plain": [
       "                age  became_member_on         income\n",
       "count  17000.000000      1.700000e+04   14825.000000\n",
       "mean      62.531412      2.016703e+07   65404.991568\n",
       "std       26.738580      1.167750e+04   21598.299410\n",
       "min       18.000000      2.013073e+07   30000.000000\n",
       "25%       45.000000      2.016053e+07   49000.000000\n",
       "50%       58.000000      2.017080e+07   64000.000000\n",
       "75%       73.000000      2.017123e+07   80000.000000\n",
       "max      118.000000      2.018073e+07  120000.000000"
      ]
     },
     "metadata": {},
     "output_type": "display_data"
    },
    {
     "data": {
      "text/html": [
       "<hr>"
      ],
      "text/plain": [
       "<IPython.core.display.HTML object>"
      ]
     },
     "metadata": {},
     "output_type": "display_data"
    },
    {
     "data": {
      "text/html": [
       "<h2 style=\"text-align: center;\">transcript DataFrame info</h2>"
      ],
      "text/plain": [
       "<IPython.core.display.HTML object>"
      ]
     },
     "metadata": {},
     "output_type": "display_data"
    },
    {
     "name": "stdout",
     "output_type": "stream",
     "text": [
      "number of rows: 306534\n",
      "number of cols: 4\n"
     ]
    },
    {
     "data": {
      "text/html": [
       "<div>\n",
       "<style scoped>\n",
       "    .dataframe tbody tr th:only-of-type {\n",
       "        vertical-align: middle;\n",
       "    }\n",
       "\n",
       "    .dataframe tbody tr th {\n",
       "        vertical-align: top;\n",
       "    }\n",
       "\n",
       "    .dataframe thead th {\n",
       "        text-align: right;\n",
       "    }\n",
       "</style>\n",
       "<table border=\"1\" class=\"dataframe\">\n",
       "  <thead>\n",
       "    <tr style=\"text-align: right;\">\n",
       "      <th></th>\n",
       "      <th>person</th>\n",
       "      <th>event</th>\n",
       "      <th>value</th>\n",
       "      <th>time</th>\n",
       "    </tr>\n",
       "  </thead>\n",
       "  <tbody>\n",
       "    <tr>\n",
       "      <th>0</th>\n",
       "      <td>78afa995795e4d85b5d9ceeca43f5fef</td>\n",
       "      <td>offer received</td>\n",
       "      <td>{'offer id': '9b98b8c7a33c4b65b9aebfe6a799e6d9'}</td>\n",
       "      <td>0</td>\n",
       "    </tr>\n",
       "    <tr>\n",
       "      <th>1</th>\n",
       "      <td>a03223e636434f42ac4c3df47e8bac43</td>\n",
       "      <td>offer received</td>\n",
       "      <td>{'offer id': '0b1e1539f2cc45b7b9fa7c272da2e1d7'}</td>\n",
       "      <td>0</td>\n",
       "    </tr>\n",
       "    <tr>\n",
       "      <th>2</th>\n",
       "      <td>e2127556f4f64592b11af22de27a7932</td>\n",
       "      <td>offer received</td>\n",
       "      <td>{'offer id': '2906b810c7d4411798c6938adc9daaa5'}</td>\n",
       "      <td>0</td>\n",
       "    </tr>\n",
       "    <tr>\n",
       "      <th>3</th>\n",
       "      <td>8ec6ce2a7e7949b1bf142def7d0e0586</td>\n",
       "      <td>offer received</td>\n",
       "      <td>{'offer id': 'fafdcd668e3743c1bb461111dcafc2a4'}</td>\n",
       "      <td>0</td>\n",
       "    </tr>\n",
       "    <tr>\n",
       "      <th>4</th>\n",
       "      <td>68617ca6246f4fbc85e91a2a49552598</td>\n",
       "      <td>offer received</td>\n",
       "      <td>{'offer id': '4d5c57ea9a6940dd891ad53e9dbe8da0'}</td>\n",
       "      <td>0</td>\n",
       "    </tr>\n",
       "  </tbody>\n",
       "</table>\n",
       "</div>"
      ],
      "text/plain": [
       "                             person           event  \\\n",
       "0  78afa995795e4d85b5d9ceeca43f5fef  offer received   \n",
       "1  a03223e636434f42ac4c3df47e8bac43  offer received   \n",
       "2  e2127556f4f64592b11af22de27a7932  offer received   \n",
       "3  8ec6ce2a7e7949b1bf142def7d0e0586  offer received   \n",
       "4  68617ca6246f4fbc85e91a2a49552598  offer received   \n",
       "\n",
       "                                              value  time  \n",
       "0  {'offer id': '9b98b8c7a33c4b65b9aebfe6a799e6d9'}     0  \n",
       "1  {'offer id': '0b1e1539f2cc45b7b9fa7c272da2e1d7'}     0  \n",
       "2  {'offer id': '2906b810c7d4411798c6938adc9daaa5'}     0  \n",
       "3  {'offer id': 'fafdcd668e3743c1bb461111dcafc2a4'}     0  \n",
       "4  {'offer id': '4d5c57ea9a6940dd891ad53e9dbe8da0'}     0  "
      ]
     },
     "metadata": {},
     "output_type": "display_data"
    },
    {
     "name": "stdout",
     "output_type": "stream",
     "text": [
      "columns:\n",
      "  person (object)\n",
      "  event (object)\n",
      "    values:['offer completed', 'offer received', 'offer viewed', 'transaction']\n",
      "      offer completed: 33579\n",
      "      offer received: 76277\n",
      "      offer viewed: 57725\n",
      "      transaction: 138953\n",
      "  value (object)\n",
      "  time (int64)\n"
     ]
    },
    {
     "data": {
      "text/html": [
       "<div>\n",
       "<style scoped>\n",
       "    .dataframe tbody tr th:only-of-type {\n",
       "        vertical-align: middle;\n",
       "    }\n",
       "\n",
       "    .dataframe tbody tr th {\n",
       "        vertical-align: top;\n",
       "    }\n",
       "\n",
       "    .dataframe thead th {\n",
       "        text-align: right;\n",
       "    }\n",
       "</style>\n",
       "<table border=\"1\" class=\"dataframe\">\n",
       "  <thead>\n",
       "    <tr style=\"text-align: right;\">\n",
       "      <th></th>\n",
       "      <th>time</th>\n",
       "    </tr>\n",
       "  </thead>\n",
       "  <tbody>\n",
       "    <tr>\n",
       "      <th>count</th>\n",
       "      <td>306534.000000</td>\n",
       "    </tr>\n",
       "    <tr>\n",
       "      <th>mean</th>\n",
       "      <td>366.382940</td>\n",
       "    </tr>\n",
       "    <tr>\n",
       "      <th>std</th>\n",
       "      <td>200.326314</td>\n",
       "    </tr>\n",
       "    <tr>\n",
       "      <th>min</th>\n",
       "      <td>0.000000</td>\n",
       "    </tr>\n",
       "    <tr>\n",
       "      <th>25%</th>\n",
       "      <td>186.000000</td>\n",
       "    </tr>\n",
       "    <tr>\n",
       "      <th>50%</th>\n",
       "      <td>408.000000</td>\n",
       "    </tr>\n",
       "    <tr>\n",
       "      <th>75%</th>\n",
       "      <td>528.000000</td>\n",
       "    </tr>\n",
       "    <tr>\n",
       "      <th>max</th>\n",
       "      <td>714.000000</td>\n",
       "    </tr>\n",
       "  </tbody>\n",
       "</table>\n",
       "</div>"
      ],
      "text/plain": [
       "                time\n",
       "count  306534.000000\n",
       "mean      366.382940\n",
       "std       200.326314\n",
       "min         0.000000\n",
       "25%       186.000000\n",
       "50%       408.000000\n",
       "75%       528.000000\n",
       "max       714.000000"
      ]
     },
     "metadata": {},
     "output_type": "display_data"
    }
   ],
   "source": [
    "def display_dataframe_info(df, df_name):\n",
    "    display(HTML('<hr>'))\n",
    "    display(HTML(f'<h2 style=\"text-align: center;\">{df_name} DataFrame info</h2>'))\n",
    "    # print(f'---- {df_name} ----')\n",
    "    print(f'number of rows: {df.shape[0]}')\n",
    "    print(f'number of cols: {df.shape[1]}')\n",
    "\n",
    "    display(df.head())\n",
    "\n",
    "    print('columns:')\n",
    "    for col in df.columns:\n",
    "        data_type = df[col].dtype\n",
    "        num_nan = df[col].isna().sum()\n",
    "        if num_nan:\n",
    "            print(f'  {col} ({data_type}, NaN:{num_nan})')\n",
    "        else:\n",
    "            print(f'  {col} ({data_type})')\n",
    "        if data_type==object:\n",
    "            # print list of values and number of occurance of each value for categorical columns\n",
    "            try:  # some columns might have unhashable values, for example lists\n",
    "                values = list(df.groupby(col).groups.keys())\n",
    "                if len(values)>9:  # if there are too many unique values, skip\n",
    "                    continue\n",
    "                print(f'    values:{values}')\n",
    "                for i,v in df.groupby(col).count().max(axis=1).iteritems():\n",
    "                    print(f'      {i}: {v}')\n",
    "            except:\n",
    "                pass\n",
    "\n",
    "    display(df.describe())\n",
    "\n",
    "\n",
    "\n",
    "display_dataframe_info(portfolio, 'portfolio')\n",
    "display_dataframe_info(profile, 'profile')\n",
    "display_dataframe_info(transcript, 'transcript')\n"
   ]
  },
  {
   "cell_type": "markdown",
   "metadata": {},
   "source": [
    "## Data Cleanup and Preparation"
   ]
  },
  {
   "cell_type": "markdown",
   "metadata": {},
   "source": [
    "The `profile` dataframe has two columns with **NaN** values: **gender** and **income**. The number of **NaN** values are identical in the two columns, suggesting that both columns might have **NaN** values for the same rows only."
   ]
  },
  {
   "cell_type": "code",
   "execution_count": 5,
   "metadata": {},
   "outputs": [
    {
     "data": {
      "text/plain": [
       "array([2, 0])"
      ]
     },
     "execution_count": 5,
     "metadata": {},
     "output_type": "execute_result"
    }
   ],
   "source": [
    "profile_isna = profile.isna().astype(int)\n",
    "sum_gender_income_isna = profile_isna.gender + profile_isna.income\n",
    "sum_gender_income_isna.unique()"
   ]
  },
  {
   "cell_type": "markdown",
   "metadata": {},
   "source": [
    "It looks like either **gender** and **income** both have valid values, or they are both **NaN**. In addition, when **gender** and **income** values are missing, **age** is set to 118."
   ]
  },
  {
   "cell_type": "code",
   "execution_count": 6,
   "metadata": {},
   "outputs": [
    {
     "data": {
      "text/html": [
       "<div>\n",
       "<style scoped>\n",
       "    .dataframe tbody tr th:only-of-type {\n",
       "        vertical-align: middle;\n",
       "    }\n",
       "\n",
       "    .dataframe tbody tr th {\n",
       "        vertical-align: top;\n",
       "    }\n",
       "\n",
       "    .dataframe thead th {\n",
       "        text-align: right;\n",
       "    }\n",
       "</style>\n",
       "<table border=\"1\" class=\"dataframe\">\n",
       "  <thead>\n",
       "    <tr style=\"text-align: right;\">\n",
       "      <th></th>\n",
       "      <th>gender</th>\n",
       "      <th>age</th>\n",
       "      <th>id</th>\n",
       "      <th>became_member_on</th>\n",
       "      <th>income</th>\n",
       "    </tr>\n",
       "  </thead>\n",
       "  <tbody>\n",
       "    <tr>\n",
       "      <th>0</th>\n",
       "      <td>None</td>\n",
       "      <td>118</td>\n",
       "      <td>68be06ca386d4c31939f3a4f0e3dd783</td>\n",
       "      <td>20170212</td>\n",
       "      <td>NaN</td>\n",
       "    </tr>\n",
       "    <tr>\n",
       "      <th>2</th>\n",
       "      <td>None</td>\n",
       "      <td>118</td>\n",
       "      <td>38fe809add3b4fcf9315a9694bb96ff5</td>\n",
       "      <td>20180712</td>\n",
       "      <td>NaN</td>\n",
       "    </tr>\n",
       "    <tr>\n",
       "      <th>4</th>\n",
       "      <td>None</td>\n",
       "      <td>118</td>\n",
       "      <td>a03223e636434f42ac4c3df47e8bac43</td>\n",
       "      <td>20170804</td>\n",
       "      <td>NaN</td>\n",
       "    </tr>\n",
       "    <tr>\n",
       "      <th>6</th>\n",
       "      <td>None</td>\n",
       "      <td>118</td>\n",
       "      <td>8ec6ce2a7e7949b1bf142def7d0e0586</td>\n",
       "      <td>20170925</td>\n",
       "      <td>NaN</td>\n",
       "    </tr>\n",
       "    <tr>\n",
       "      <th>7</th>\n",
       "      <td>None</td>\n",
       "      <td>118</td>\n",
       "      <td>68617ca6246f4fbc85e91a2a49552598</td>\n",
       "      <td>20171002</td>\n",
       "      <td>NaN</td>\n",
       "    </tr>\n",
       "    <tr>\n",
       "      <th>...</th>\n",
       "      <td>...</td>\n",
       "      <td>...</td>\n",
       "      <td>...</td>\n",
       "      <td>...</td>\n",
       "      <td>...</td>\n",
       "    </tr>\n",
       "    <tr>\n",
       "      <th>16980</th>\n",
       "      <td>None</td>\n",
       "      <td>118</td>\n",
       "      <td>5c686d09ca4d475a8f750f2ba07e0440</td>\n",
       "      <td>20160901</td>\n",
       "      <td>NaN</td>\n",
       "    </tr>\n",
       "    <tr>\n",
       "      <th>16982</th>\n",
       "      <td>None</td>\n",
       "      <td>118</td>\n",
       "      <td>d9ca82f550ac4ee58b6299cf1e5c824a</td>\n",
       "      <td>20160415</td>\n",
       "      <td>NaN</td>\n",
       "    </tr>\n",
       "    <tr>\n",
       "      <th>16989</th>\n",
       "      <td>None</td>\n",
       "      <td>118</td>\n",
       "      <td>ca45ee1883624304bac1e4c8a114f045</td>\n",
       "      <td>20180305</td>\n",
       "      <td>NaN</td>\n",
       "    </tr>\n",
       "    <tr>\n",
       "      <th>16991</th>\n",
       "      <td>None</td>\n",
       "      <td>118</td>\n",
       "      <td>a9a20fa8b5504360beb4e7c8712f8306</td>\n",
       "      <td>20160116</td>\n",
       "      <td>NaN</td>\n",
       "    </tr>\n",
       "    <tr>\n",
       "      <th>16994</th>\n",
       "      <td>None</td>\n",
       "      <td>118</td>\n",
       "      <td>c02b10e8752c4d8e9b73f918558531f7</td>\n",
       "      <td>20151211</td>\n",
       "      <td>NaN</td>\n",
       "    </tr>\n",
       "  </tbody>\n",
       "</table>\n",
       "<p>2175 rows × 5 columns</p>\n",
       "</div>"
      ],
      "text/plain": [
       "      gender  age                                id  became_member_on  income\n",
       "0       None  118  68be06ca386d4c31939f3a4f0e3dd783          20170212     NaN\n",
       "2       None  118  38fe809add3b4fcf9315a9694bb96ff5          20180712     NaN\n",
       "4       None  118  a03223e636434f42ac4c3df47e8bac43          20170804     NaN\n",
       "6       None  118  8ec6ce2a7e7949b1bf142def7d0e0586          20170925     NaN\n",
       "7       None  118  68617ca6246f4fbc85e91a2a49552598          20171002     NaN\n",
       "...      ...  ...                               ...               ...     ...\n",
       "16980   None  118  5c686d09ca4d475a8f750f2ba07e0440          20160901     NaN\n",
       "16982   None  118  d9ca82f550ac4ee58b6299cf1e5c824a          20160415     NaN\n",
       "16989   None  118  ca45ee1883624304bac1e4c8a114f045          20180305     NaN\n",
       "16991   None  118  a9a20fa8b5504360beb4e7c8712f8306          20160116     NaN\n",
       "16994   None  118  c02b10e8752c4d8e9b73f918558531f7          20151211     NaN\n",
       "\n",
       "[2175 rows x 5 columns]"
      ]
     },
     "execution_count": 6,
     "metadata": {},
     "output_type": "execute_result"
    }
   ],
   "source": [
    "profile[profile['gender'].isna()]"
   ]
  },
  {
   "cell_type": "markdown",
   "metadata": {},
   "source": [
    "We are trying to target offers based on demographic information, so we can remove profiles from the data set with **NaN** values."
   ]
  },
  {
   "cell_type": "code",
   "execution_count": 7,
   "metadata": {},
   "outputs": [
    {
     "name": "stdout",
     "output_type": "stream",
     "text": [
      "profile number of rows: 17000\n",
      "profile number of rows after dropping NaNs: 14825\n"
     ]
    }
   ],
   "source": [
    "print(f'profile number of rows: {profile.shape[0]}')\n",
    "\n",
    "profile = profile.dropna()\n",
    "\n",
    "print(f'profile number of rows after dropping NaNs: {profile.shape[0]}')"
   ]
  },
  {
   "cell_type": "markdown",
   "metadata": {},
   "source": [
    "The transcript records contain a **time** field in hours. The promotion durations in the profile data set us days as units. We'll convert the timestamps in the transcript records to days to make sure that the same units are used."
   ]
  },
  {
   "cell_type": "code",
   "execution_count": 8,
   "metadata": {},
   "outputs": [],
   "source": [
    "# convert transcript time from hours to days, to match portfolio offer duration units\n",
    "#\n",
    "transcript.time /= 24"
   ]
  },
  {
   "cell_type": "markdown",
   "metadata": {},
   "source": [
    "Convert date integers to days from the first registration date in the **profiles** data set."
   ]
  },
  {
   "cell_type": "code",
   "execution_count": 9,
   "metadata": {},
   "outputs": [],
   "source": [
    "def convert_date_to_day(x):\n",
    "    \"\"\"Convert a date integer from profile record to hours days from the first registration (20130729).\n",
    "    Input:\n",
    "      x: date integer (eg. 20171003)\n",
    "\n",
    "    Output:\n",
    "      days: days elapsed from 2013/07/29\n",
    "    \"\"\"\n",
    "    x_str = str(x)\n",
    "    from_date = datetime.date(2013, 7, 29)\n",
    "    x_date = datetime.date(int(x_str[0:4]), int(x_str[4:6]), int(x_str[6:]))\n",
    "    delta = x_date - from_date\n",
    "    return delta.days\n",
    "\n",
    "# convert date integers to days\n",
    "#\n",
    "profile['membership_start_day'] = profile['became_member_on'].apply(convert_date_to_day)\n"
   ]
  },
  {
   "cell_type": "code",
   "execution_count": 10,
   "metadata": {},
   "outputs": [],
   "source": [
    "def create_dummy_columns(df, column_name, drop_column=False, prefix=None, prefix_sep='_'):\n",
    "    \"\"\"A helper function for creating dummy columns for category values.\n",
    "    \n",
    "    Inputs:\n",
    "      df: a DataFrame\n",
    "      column_name: the name of the category value column\n",
    "      drop_column: whether to drop the original category column after creating the dummies\n",
    "      prefix: if specified, will be used as dummy column prefix (otherwise use column_name)\n",
    "      prefix_sep: separator to use after prefix\n",
    "\n",
    "    Returns:\n",
    "      df: DataFrame with dummy columns created\n",
    "    \"\"\"\n",
    "    if prefix is None:\n",
    "        prefix = column_name\n",
    "    print(f'creating dummies for category column: {column_name}')\n",
    "    # df_category_columns = pd.concat([df_category_columns, df[i]])\n",
    "    # df_category_columns[i] = df[i]\n",
    "    df = pd.concat([df if drop_column==False else df.drop(column_name, axis=1), \n",
    "                   pd.get_dummies(df[column_name], prefix=prefix, prefix_sep=prefix_sep)], \n",
    "                   axis=1)   \n",
    "    return df \n",
    "\n"
   ]
  },
  {
   "cell_type": "markdown",
   "metadata": {},
   "source": [
    "Create age and income bins for each user in the profiles data set, and dummy columns for each binned value."
   ]
  },
  {
   "cell_type": "code",
   "execution_count": 11,
   "metadata": {},
   "outputs": [
    {
     "name": "stdout",
     "output_type": "stream",
     "text": [
      "_10s     340\n",
      "_20s    1365\n",
      "_30s    1597\n",
      "_40s    2391\n",
      "_50s    3590\n",
      "_60s    2910\n",
      "_70s    1646\n",
      "_80s     767\n",
      "_90s     214\n",
      "100s       5\n",
      "Name: bins_age, dtype: int64\n"
     ]
    },
    {
     "data": {
      "text/plain": [
       "25k+     4034\n",
       "50k+     6436\n",
       "75k+     3349\n",
       "100k+    1006\n",
       "Name: bins_income, dtype: int64"
      ]
     },
     "metadata": {},
     "output_type": "display_data"
    },
    {
     "name": "stdout",
     "output_type": "stream",
     "text": [
      "creating dummies for category column: bins_income\n",
      "creating dummies for category column: bins_age\n",
      "creating dummies for category column: gender\n"
     ]
    },
    {
     "data": {
      "text/html": [
       "<div>\n",
       "<style scoped>\n",
       "    .dataframe tbody tr th:only-of-type {\n",
       "        vertical-align: middle;\n",
       "    }\n",
       "\n",
       "    .dataframe tbody tr th {\n",
       "        vertical-align: top;\n",
       "    }\n",
       "\n",
       "    .dataframe thead th {\n",
       "        text-align: right;\n",
       "    }\n",
       "</style>\n",
       "<table border=\"1\" class=\"dataframe\">\n",
       "  <thead>\n",
       "    <tr style=\"text-align: right;\">\n",
       "      <th></th>\n",
       "      <th>gender</th>\n",
       "      <th>age</th>\n",
       "      <th>person_id</th>\n",
       "      <th>became_member_on</th>\n",
       "      <th>income</th>\n",
       "      <th>membership_start_day</th>\n",
       "      <th>bins_age</th>\n",
       "      <th>bins_income</th>\n",
       "      <th>income_25k+</th>\n",
       "      <th>income_50k+</th>\n",
       "      <th>...</th>\n",
       "      <th>age__40s</th>\n",
       "      <th>age__50s</th>\n",
       "      <th>age__60s</th>\n",
       "      <th>age__70s</th>\n",
       "      <th>age__80s</th>\n",
       "      <th>age__90s</th>\n",
       "      <th>age_100s</th>\n",
       "      <th>gender_F</th>\n",
       "      <th>gender_M</th>\n",
       "      <th>gender_O</th>\n",
       "    </tr>\n",
       "  </thead>\n",
       "  <tbody>\n",
       "    <tr>\n",
       "      <th>1</th>\n",
       "      <td>F</td>\n",
       "      <td>55</td>\n",
       "      <td>0610b486422d4921ae7d2bf64640c50b</td>\n",
       "      <td>20170715</td>\n",
       "      <td>112000.0</td>\n",
       "      <td>1447</td>\n",
       "      <td>_50s</td>\n",
       "      <td>100k+</td>\n",
       "      <td>0</td>\n",
       "      <td>0</td>\n",
       "      <td>...</td>\n",
       "      <td>0</td>\n",
       "      <td>1</td>\n",
       "      <td>0</td>\n",
       "      <td>0</td>\n",
       "      <td>0</td>\n",
       "      <td>0</td>\n",
       "      <td>0</td>\n",
       "      <td>1</td>\n",
       "      <td>0</td>\n",
       "      <td>0</td>\n",
       "    </tr>\n",
       "    <tr>\n",
       "      <th>3</th>\n",
       "      <td>F</td>\n",
       "      <td>75</td>\n",
       "      <td>78afa995795e4d85b5d9ceeca43f5fef</td>\n",
       "      <td>20170509</td>\n",
       "      <td>100000.0</td>\n",
       "      <td>1380</td>\n",
       "      <td>_70s</td>\n",
       "      <td>75k+</td>\n",
       "      <td>0</td>\n",
       "      <td>0</td>\n",
       "      <td>...</td>\n",
       "      <td>0</td>\n",
       "      <td>0</td>\n",
       "      <td>0</td>\n",
       "      <td>1</td>\n",
       "      <td>0</td>\n",
       "      <td>0</td>\n",
       "      <td>0</td>\n",
       "      <td>1</td>\n",
       "      <td>0</td>\n",
       "      <td>0</td>\n",
       "    </tr>\n",
       "    <tr>\n",
       "      <th>5</th>\n",
       "      <td>M</td>\n",
       "      <td>68</td>\n",
       "      <td>e2127556f4f64592b11af22de27a7932</td>\n",
       "      <td>20180426</td>\n",
       "      <td>70000.0</td>\n",
       "      <td>1732</td>\n",
       "      <td>_60s</td>\n",
       "      <td>50k+</td>\n",
       "      <td>0</td>\n",
       "      <td>1</td>\n",
       "      <td>...</td>\n",
       "      <td>0</td>\n",
       "      <td>0</td>\n",
       "      <td>1</td>\n",
       "      <td>0</td>\n",
       "      <td>0</td>\n",
       "      <td>0</td>\n",
       "      <td>0</td>\n",
       "      <td>0</td>\n",
       "      <td>1</td>\n",
       "      <td>0</td>\n",
       "    </tr>\n",
       "    <tr>\n",
       "      <th>8</th>\n",
       "      <td>M</td>\n",
       "      <td>65</td>\n",
       "      <td>389bc3fa690240e798340f5a15918d5c</td>\n",
       "      <td>20180209</td>\n",
       "      <td>53000.0</td>\n",
       "      <td>1656</td>\n",
       "      <td>_60s</td>\n",
       "      <td>50k+</td>\n",
       "      <td>0</td>\n",
       "      <td>1</td>\n",
       "      <td>...</td>\n",
       "      <td>0</td>\n",
       "      <td>0</td>\n",
       "      <td>1</td>\n",
       "      <td>0</td>\n",
       "      <td>0</td>\n",
       "      <td>0</td>\n",
       "      <td>0</td>\n",
       "      <td>0</td>\n",
       "      <td>1</td>\n",
       "      <td>0</td>\n",
       "    </tr>\n",
       "    <tr>\n",
       "      <th>12</th>\n",
       "      <td>M</td>\n",
       "      <td>58</td>\n",
       "      <td>2eeac8d8feae4a8cad5a6af0499a211d</td>\n",
       "      <td>20171111</td>\n",
       "      <td>51000.0</td>\n",
       "      <td>1566</td>\n",
       "      <td>_50s</td>\n",
       "      <td>50k+</td>\n",
       "      <td>0</td>\n",
       "      <td>1</td>\n",
       "      <td>...</td>\n",
       "      <td>0</td>\n",
       "      <td>1</td>\n",
       "      <td>0</td>\n",
       "      <td>0</td>\n",
       "      <td>0</td>\n",
       "      <td>0</td>\n",
       "      <td>0</td>\n",
       "      <td>0</td>\n",
       "      <td>1</td>\n",
       "      <td>0</td>\n",
       "    </tr>\n",
       "  </tbody>\n",
       "</table>\n",
       "<p>5 rows × 25 columns</p>\n",
       "</div>"
      ],
      "text/plain": [
       "   gender  age                         person_id  became_member_on    income  \\\n",
       "1       F   55  0610b486422d4921ae7d2bf64640c50b          20170715  112000.0   \n",
       "3       F   75  78afa995795e4d85b5d9ceeca43f5fef          20170509  100000.0   \n",
       "5       M   68  e2127556f4f64592b11af22de27a7932          20180426   70000.0   \n",
       "8       M   65  389bc3fa690240e798340f5a15918d5c          20180209   53000.0   \n",
       "12      M   58  2eeac8d8feae4a8cad5a6af0499a211d          20171111   51000.0   \n",
       "\n",
       "    membership_start_day bins_age bins_income  income_25k+  income_50k+  ...  \\\n",
       "1                   1447     _50s       100k+            0            0  ...   \n",
       "3                   1380     _70s        75k+            0            0  ...   \n",
       "5                   1732     _60s        50k+            0            1  ...   \n",
       "8                   1656     _60s        50k+            0            1  ...   \n",
       "12                  1566     _50s        50k+            0            1  ...   \n",
       "\n",
       "    age__40s  age__50s  age__60s  age__70s  age__80s  age__90s  age_100s  \\\n",
       "1          0         1         0         0         0         0         0   \n",
       "3          0         0         0         1         0         0         0   \n",
       "5          0         0         1         0         0         0         0   \n",
       "8          0         0         1         0         0         0         0   \n",
       "12         0         1         0         0         0         0         0   \n",
       "\n",
       "    gender_F  gender_M  gender_O  \n",
       "1          1         0         0  \n",
       "3          1         0         0  \n",
       "5          0         1         0  \n",
       "8          0         1         0  \n",
       "12         0         1         0  \n",
       "\n",
       "[5 rows x 25 columns]"
      ]
     },
     "metadata": {},
     "output_type": "display_data"
    }
   ],
   "source": [
    "# create age bins\n",
    "#\n",
    "profile['bins_age']=pd.cut(x=profile.age, \n",
    "                            bins=[10,20,30,40,50,60,70,80,90,100,110], \n",
    "                            labels=['_10s','_20s','_30s','_40s','_50s','_60s','_70s','_80s','_90s','100s'])\n",
    "\n",
    "print(profile.bins_age.value_counts().sort_index())\n",
    "\n",
    "# create income bins\n",
    "#\n",
    "profile['bins_income']=pd.cut(x=profile.income, \n",
    "                                bins=[25000,50000,75000,100000,125000], \n",
    "                                labels=['25k+','50k+','75k+','100k+'])\n",
    "\n",
    "display(profile.bins_income.value_counts().sort_index())\n",
    "\n",
    "# create dummy columns for income and age categories\n",
    "#\n",
    "profile = create_dummy_columns(profile, 'bins_income', prefix='income')\n",
    "profile = create_dummy_columns(profile, 'bins_age', prefix='age')\n",
    "profile = create_dummy_columns(profile, 'gender')\n",
    "\n",
    "# rename id -> person_id to match the offers DataFrame\n",
    "#\n",
    "profile.rename(columns={'id':'person_id'}, inplace=True)\n",
    "\n",
    "display(profile.head())"
   ]
  },
  {
   "cell_type": "markdown",
   "metadata": {},
   "source": [
    "Create dummy columns for the **offer_type** column and the values in the **channels** column of the portfolio data set."
   ]
  },
  {
   "cell_type": "code",
   "execution_count": 12,
   "metadata": {},
   "outputs": [
    {
     "name": "stdout",
     "output_type": "stream",
     "text": [
      "creating dummies for category column: offer_type\n"
     ]
    },
    {
     "data": {
      "text/html": [
       "<div>\n",
       "<style scoped>\n",
       "    .dataframe tbody tr th:only-of-type {\n",
       "        vertical-align: middle;\n",
       "    }\n",
       "\n",
       "    .dataframe tbody tr th {\n",
       "        vertical-align: top;\n",
       "    }\n",
       "\n",
       "    .dataframe thead th {\n",
       "        text-align: right;\n",
       "    }\n",
       "</style>\n",
       "<table border=\"1\" class=\"dataframe\">\n",
       "  <thead>\n",
       "    <tr style=\"text-align: right;\">\n",
       "      <th></th>\n",
       "      <th>reward</th>\n",
       "      <th>channels</th>\n",
       "      <th>difficulty</th>\n",
       "      <th>duration</th>\n",
       "      <th>offer_type</th>\n",
       "      <th>offer_id</th>\n",
       "      <th>offer_type_bogo</th>\n",
       "      <th>offer_type_discount</th>\n",
       "      <th>offer_type_informational</th>\n",
       "      <th>channel_email</th>\n",
       "      <th>channel_mobile</th>\n",
       "      <th>channel_social</th>\n",
       "      <th>channel_web</th>\n",
       "    </tr>\n",
       "  </thead>\n",
       "  <tbody>\n",
       "    <tr>\n",
       "      <th>0</th>\n",
       "      <td>10</td>\n",
       "      <td>[email, mobile, social]</td>\n",
       "      <td>10</td>\n",
       "      <td>7</td>\n",
       "      <td>bogo</td>\n",
       "      <td>ae264e3637204a6fb9bb56bc8210ddfd</td>\n",
       "      <td>1</td>\n",
       "      <td>0</td>\n",
       "      <td>0</td>\n",
       "      <td>1</td>\n",
       "      <td>1</td>\n",
       "      <td>1</td>\n",
       "      <td>0</td>\n",
       "    </tr>\n",
       "    <tr>\n",
       "      <th>1</th>\n",
       "      <td>10</td>\n",
       "      <td>[web, email, mobile, social]</td>\n",
       "      <td>10</td>\n",
       "      <td>5</td>\n",
       "      <td>bogo</td>\n",
       "      <td>4d5c57ea9a6940dd891ad53e9dbe8da0</td>\n",
       "      <td>1</td>\n",
       "      <td>0</td>\n",
       "      <td>0</td>\n",
       "      <td>1</td>\n",
       "      <td>1</td>\n",
       "      <td>1</td>\n",
       "      <td>1</td>\n",
       "    </tr>\n",
       "    <tr>\n",
       "      <th>2</th>\n",
       "      <td>0</td>\n",
       "      <td>[web, email, mobile]</td>\n",
       "      <td>0</td>\n",
       "      <td>4</td>\n",
       "      <td>informational</td>\n",
       "      <td>3f207df678b143eea3cee63160fa8bed</td>\n",
       "      <td>0</td>\n",
       "      <td>0</td>\n",
       "      <td>1</td>\n",
       "      <td>1</td>\n",
       "      <td>1</td>\n",
       "      <td>0</td>\n",
       "      <td>1</td>\n",
       "    </tr>\n",
       "    <tr>\n",
       "      <th>3</th>\n",
       "      <td>5</td>\n",
       "      <td>[web, email, mobile]</td>\n",
       "      <td>5</td>\n",
       "      <td>7</td>\n",
       "      <td>bogo</td>\n",
       "      <td>9b98b8c7a33c4b65b9aebfe6a799e6d9</td>\n",
       "      <td>1</td>\n",
       "      <td>0</td>\n",
       "      <td>0</td>\n",
       "      <td>1</td>\n",
       "      <td>1</td>\n",
       "      <td>0</td>\n",
       "      <td>1</td>\n",
       "    </tr>\n",
       "    <tr>\n",
       "      <th>4</th>\n",
       "      <td>5</td>\n",
       "      <td>[web, email]</td>\n",
       "      <td>20</td>\n",
       "      <td>10</td>\n",
       "      <td>discount</td>\n",
       "      <td>0b1e1539f2cc45b7b9fa7c272da2e1d7</td>\n",
       "      <td>0</td>\n",
       "      <td>1</td>\n",
       "      <td>0</td>\n",
       "      <td>1</td>\n",
       "      <td>0</td>\n",
       "      <td>0</td>\n",
       "      <td>1</td>\n",
       "    </tr>\n",
       "  </tbody>\n",
       "</table>\n",
       "</div>"
      ],
      "text/plain": [
       "   reward                      channels  difficulty  duration     offer_type  \\\n",
       "0      10       [email, mobile, social]          10         7           bogo   \n",
       "1      10  [web, email, mobile, social]          10         5           bogo   \n",
       "2       0          [web, email, mobile]           0         4  informational   \n",
       "3       5          [web, email, mobile]           5         7           bogo   \n",
       "4       5                  [web, email]          20        10       discount   \n",
       "\n",
       "                           offer_id  offer_type_bogo  offer_type_discount  \\\n",
       "0  ae264e3637204a6fb9bb56bc8210ddfd                1                    0   \n",
       "1  4d5c57ea9a6940dd891ad53e9dbe8da0                1                    0   \n",
       "2  3f207df678b143eea3cee63160fa8bed                0                    0   \n",
       "3  9b98b8c7a33c4b65b9aebfe6a799e6d9                1                    0   \n",
       "4  0b1e1539f2cc45b7b9fa7c272da2e1d7                0                    1   \n",
       "\n",
       "   offer_type_informational  channel_email  channel_mobile  channel_social  \\\n",
       "0                         0              1               1               1   \n",
       "1                         0              1               1               1   \n",
       "2                         1              1               1               0   \n",
       "3                         0              1               1               0   \n",
       "4                         0              1               0               0   \n",
       "\n",
       "   channel_web  \n",
       "0            0  \n",
       "1            1  \n",
       "2            1  \n",
       "3            1  \n",
       "4            1  "
      ]
     },
     "metadata": {},
     "output_type": "display_data"
    }
   ],
   "source": [
    "# make dummies for offer types\n",
    "# \n",
    "portfolio = create_dummy_columns(portfolio, 'offer_type')\n",
    "                            \n",
    "# make dummies for channels\n",
    "#\n",
    "# portfolio = pd.concat([portfolio,\n",
    "#                         pd.get_dummies(portfolio.channels.apply(pd.Series).stack()).sum(level=0).add_prefix('channel_')],\n",
    "#                         axis=1)\n",
    "portfolio = pd.concat([portfolio,\n",
    "                        pd.get_dummies(portfolio.channels.apply(pd.Series).stack()).groupby(level=0).sum().add_prefix('channel_')],\n",
    "                        axis=1)\n",
    "# rename id -> offer_id to match the offers DataFrame\n",
    "#\n",
    "portfolio.rename(columns={'id':'offer_id'}, inplace=True)\n",
    "\n",
    "display(portfolio.head())"
   ]
  },
  {
   "cell_type": "code",
   "execution_count": null,
   "metadata": {},
   "outputs": [],
   "source": []
  },
  {
   "cell_type": "markdown",
   "metadata": {},
   "source": [
    "### Parsing Offer Records\n",
    "\n",
    "Currently transactions, information about promotions and demographic info about customers are in separate tables.\n",
    "\n",
    "We need to combine all these tables and find purchase transactions that were influenced by promotions.\n",
    "\n",
    "Unfortunately transactions don't indicate whether purchases are tied to a specific promotion, so we'll have to assume that after a customer receives and views a promotion, the purchases belong to that offer until the offer completes or expires.\n",
    "\n",
    "We'll use the code below to parse all offers. For each offer, we'll record:\n",
    "- **person_id** - id of the person who received the offer\n",
    "- **offer_id** - id of the offer matching the portfolio dataset\n",
    "- **start_date** - date of offer received, in days after estart of experiment\n",
    "- **end_date** - date offer expires, in days after estart of experiment\n",
    "- **viewed** - whether the offer was viewed\n",
    "- **completed** - wheteher the offer was completed\n",
    "- **transaction_count** - number of sales tied to this offer\n",
    "- **transaction_total** - purchase total\n"
   ]
  },
  {
   "cell_type": "code",
   "execution_count": 13,
   "metadata": {},
   "outputs": [],
   "source": [
    "class OfferRecord:\n",
    "    \"\"\"This class is used to store information about an offer given to a customer.\"\"\"\n",
    "    def __init__(self, person_id, offer_id, date, duration):\n",
    "        \"\"\"Initializes an OfferRecord instance.\n",
    "        Inputs: \n",
    "          person_id: id of customer\n",
    "          offer_id: id of offer\n",
    "          date: date offer is received (in days)\n",
    "          duration: how long this offer is valid for (in days)\n",
    "        \"\"\"\n",
    "        self.person_id = person_id\n",
    "        self.offer_id = offer_id\n",
    "        self.start_date = date\n",
    "        self.end_date = self.start_date + duration\n",
    "        self.viewed = 0\n",
    "        self.completed = 0\n",
    "        self.transaction_count = 0\n",
    "        self.transaction_total = 0\n",
    "\n",
    "    def as_dict(self):\n",
    "        \"\"\"Returns an OfferRecord as a python dict.\n",
    "        Returns:\n",
    "          dict: a python dictionary with the offer's properties\n",
    "        \"\"\"\n",
    "        d = {}\n",
    "        d['person_id'] = self.person_id\n",
    "        d['offer_id'] = self.offer_id\n",
    "        d['offer_viewed'] = self.viewed\n",
    "        d['offer_completed'] = self.completed\n",
    "        d['offer_start_date'] = self.start_date\n",
    "        d['offer_end_date'] = self.end_date\n",
    "        d['transaction_count'] = self.transaction_count\n",
    "        d['transaction_total'] = self.transaction_total\n",
    "        return(d)\n",
    "\n",
    "    def __str__(self):\n",
    "        \"\"\"Returns a python string representation of the class, usually used to print the object.\"\"\"\n",
    "        return(f'{self.person_id} {self.offer_id} {self.start_date} {self.end_date} {self.viewed} {self.completed} {self.transaction_count} {self.transaction_total}')\n",
    "\n",
    "def parse_offer_records(customer_transcript, portfolio):\n",
    "    \"\"\"\n",
    "    Parses transcript records for offers a customer received and used.\n",
    "\n",
    "    Inputs:\n",
    "      customer_transcript: DataFrame containing all transcript records for a customer id, in chronological order\n",
    "      portfolio: the portfolio DataFrame (used to get info about offers)\n",
    "\n",
    "    Returns:\n",
    "      offer_records: a list of offers records for the customer id\n",
    "    \"\"\"\n",
    "    offer_record = None\n",
    "    offer_records = []\n",
    "    for i in range(len(customer_transcript)):\n",
    "        r = customer_transcript.iloc[i]\n",
    "        if r.event == 'offer received':\n",
    "            if offer_record is not None:\n",
    "                offer_records.append(offer_record)\n",
    "            offer_id = r.value['offer id']\n",
    "            offer_duration = portfolio.loc[portfolio.offer_id==offer_id].duration.item()\n",
    "            offer_record = OfferRecord(r.person, offer_id, r.time, offer_duration)\n",
    "        elif r.event == 'offer viewed':\n",
    "            if r.value['offer id'] != offer_record.offer_id:\n",
    "                print(f'offer id mismatch (viewed): person:{offer_record.person_id} {offer_record.offer_id} {r.value[\"offer id\"]}')\n",
    "            offer_record.viewed = 1\n",
    "        elif r.event == 'offer completed':\n",
    "            if offer_record.viewed and r.value['offer_id'] == offer_record.offer_id:\n",
    "                offer_record.completed = 1\n",
    "        elif r.event == 'transaction':\n",
    "            if offer_record and offer_record.viewed and r.time<=offer_record.end_date:\n",
    "                offer_record.transaction_count += 1\n",
    "                offer_record.transaction_total += r.value['amount']\n",
    "        \n",
    "    if offer_record is not None:\n",
    "        offer_records.append(offer_record)\n",
    "            \n",
    "    return offer_records\n",
    "\n"
   ]
  },
  {
   "cell_type": "code",
   "execution_count": 14,
   "metadata": {},
   "outputs": [
    {
     "name": "stdout",
     "output_type": "stream",
     "text": [
      "unpickle offers data\n"
     ]
    }
   ],
   "source": [
    "if not os.path.exists('data/offers.pkl'):\n",
    "    offer_records = []\n",
    "\n",
    "    for i in tqdm(range(len(profile))):\n",
    "    # for i in tqdm(range(100)):\n",
    "        customer = profile.iloc[i]\n",
    "        customer_id = customer.person_id\n",
    "\n",
    "        customer_transcript = transcript.loc[transcript.person==customer_id]\n",
    "\n",
    "        for o in parse_offer_records(customer_transcript, portfolio):\n",
    "            offer_records.append(o.as_dict())\n",
    "\n",
    "    # print(offer_records)\n",
    "\n",
    "    # for o in offer_records:\n",
    "    #     print(o)\n",
    "\n",
    "    print(f'number of offer records parsed: {len(offer_records)}')\n",
    "\n",
    "    offers = pd.DataFrame.from_records(offer_records)\n",
    "\n",
    "    print('pickle offers data')\n",
    "    offers.to_pickle('data/offers.pkl')\n",
    "\n",
    "print('unpickle offers data')\n",
    "offers = pd.read_pickle('data/offers.pkl')"
   ]
  },
  {
   "cell_type": "markdown",
   "metadata": {},
   "source": [
    "Merge the **portfolio** and **profile** records into the **offers** data set."
   ]
  },
  {
   "cell_type": "code",
   "execution_count": 15,
   "metadata": {},
   "outputs": [
    {
     "name": "stdout",
     "output_type": "stream",
     "text": [
      "offers shape: (66501, 44)\n"
     ]
    },
    {
     "data": {
      "text/html": [
       "<div>\n",
       "<style scoped>\n",
       "    .dataframe tbody tr th:only-of-type {\n",
       "        vertical-align: middle;\n",
       "    }\n",
       "\n",
       "    .dataframe tbody tr th {\n",
       "        vertical-align: top;\n",
       "    }\n",
       "\n",
       "    .dataframe thead th {\n",
       "        text-align: right;\n",
       "    }\n",
       "</style>\n",
       "<table border=\"1\" class=\"dataframe\">\n",
       "  <thead>\n",
       "    <tr style=\"text-align: right;\">\n",
       "      <th></th>\n",
       "      <th>person_id</th>\n",
       "      <th>offer_id</th>\n",
       "      <th>offer_viewed</th>\n",
       "      <th>offer_completed</th>\n",
       "      <th>offer_start_date</th>\n",
       "      <th>offer_end_date</th>\n",
       "      <th>transaction_count</th>\n",
       "      <th>transaction_total</th>\n",
       "      <th>gender</th>\n",
       "      <th>age</th>\n",
       "      <th>...</th>\n",
       "      <th>difficulty</th>\n",
       "      <th>duration</th>\n",
       "      <th>offer_type</th>\n",
       "      <th>offer_type_bogo</th>\n",
       "      <th>offer_type_discount</th>\n",
       "      <th>offer_type_informational</th>\n",
       "      <th>channel_email</th>\n",
       "      <th>channel_mobile</th>\n",
       "      <th>channel_social</th>\n",
       "      <th>channel_web</th>\n",
       "    </tr>\n",
       "  </thead>\n",
       "  <tbody>\n",
       "    <tr>\n",
       "      <th>0</th>\n",
       "      <td>0610b486422d4921ae7d2bf64640c50b</td>\n",
       "      <td>9b98b8c7a33c4b65b9aebfe6a799e6d9</td>\n",
       "      <td>0</td>\n",
       "      <td>0</td>\n",
       "      <td>17.0</td>\n",
       "      <td>24.0</td>\n",
       "      <td>0</td>\n",
       "      <td>0.00</td>\n",
       "      <td>F</td>\n",
       "      <td>55</td>\n",
       "      <td>...</td>\n",
       "      <td>5</td>\n",
       "      <td>7</td>\n",
       "      <td>bogo</td>\n",
       "      <td>1</td>\n",
       "      <td>0</td>\n",
       "      <td>0</td>\n",
       "      <td>1</td>\n",
       "      <td>1</td>\n",
       "      <td>0</td>\n",
       "      <td>1</td>\n",
       "    </tr>\n",
       "    <tr>\n",
       "      <th>1</th>\n",
       "      <td>78afa995795e4d85b5d9ceeca43f5fef</td>\n",
       "      <td>9b98b8c7a33c4b65b9aebfe6a799e6d9</td>\n",
       "      <td>1</td>\n",
       "      <td>1</td>\n",
       "      <td>0.0</td>\n",
       "      <td>7.0</td>\n",
       "      <td>2</td>\n",
       "      <td>37.67</td>\n",
       "      <td>F</td>\n",
       "      <td>75</td>\n",
       "      <td>...</td>\n",
       "      <td>5</td>\n",
       "      <td>7</td>\n",
       "      <td>bogo</td>\n",
       "      <td>1</td>\n",
       "      <td>0</td>\n",
       "      <td>0</td>\n",
       "      <td>1</td>\n",
       "      <td>1</td>\n",
       "      <td>0</td>\n",
       "      <td>1</td>\n",
       "    </tr>\n",
       "    <tr>\n",
       "      <th>2</th>\n",
       "      <td>e2127556f4f64592b11af22de27a7932</td>\n",
       "      <td>9b98b8c7a33c4b65b9aebfe6a799e6d9</td>\n",
       "      <td>1</td>\n",
       "      <td>0</td>\n",
       "      <td>17.0</td>\n",
       "      <td>24.0</td>\n",
       "      <td>0</td>\n",
       "      <td>0.00</td>\n",
       "      <td>M</td>\n",
       "      <td>68</td>\n",
       "      <td>...</td>\n",
       "      <td>5</td>\n",
       "      <td>7</td>\n",
       "      <td>bogo</td>\n",
       "      <td>1</td>\n",
       "      <td>0</td>\n",
       "      <td>0</td>\n",
       "      <td>1</td>\n",
       "      <td>1</td>\n",
       "      <td>0</td>\n",
       "      <td>1</td>\n",
       "    </tr>\n",
       "    <tr>\n",
       "      <th>3</th>\n",
       "      <td>389bc3fa690240e798340f5a15918d5c</td>\n",
       "      <td>9b98b8c7a33c4b65b9aebfe6a799e6d9</td>\n",
       "      <td>1</td>\n",
       "      <td>0</td>\n",
       "      <td>7.0</td>\n",
       "      <td>14.0</td>\n",
       "      <td>0</td>\n",
       "      <td>0.00</td>\n",
       "      <td>M</td>\n",
       "      <td>65</td>\n",
       "      <td>...</td>\n",
       "      <td>5</td>\n",
       "      <td>7</td>\n",
       "      <td>bogo</td>\n",
       "      <td>1</td>\n",
       "      <td>0</td>\n",
       "      <td>0</td>\n",
       "      <td>1</td>\n",
       "      <td>1</td>\n",
       "      <td>0</td>\n",
       "      <td>1</td>\n",
       "    </tr>\n",
       "    <tr>\n",
       "      <th>4</th>\n",
       "      <td>389bc3fa690240e798340f5a15918d5c</td>\n",
       "      <td>9b98b8c7a33c4b65b9aebfe6a799e6d9</td>\n",
       "      <td>1</td>\n",
       "      <td>1</td>\n",
       "      <td>17.0</td>\n",
       "      <td>24.0</td>\n",
       "      <td>1</td>\n",
       "      <td>15.63</td>\n",
       "      <td>M</td>\n",
       "      <td>65</td>\n",
       "      <td>...</td>\n",
       "      <td>5</td>\n",
       "      <td>7</td>\n",
       "      <td>bogo</td>\n",
       "      <td>1</td>\n",
       "      <td>0</td>\n",
       "      <td>0</td>\n",
       "      <td>1</td>\n",
       "      <td>1</td>\n",
       "      <td>0</td>\n",
       "      <td>1</td>\n",
       "    </tr>\n",
       "  </tbody>\n",
       "</table>\n",
       "<p>5 rows × 44 columns</p>\n",
       "</div>"
      ],
      "text/plain": [
       "                          person_id                          offer_id  \\\n",
       "0  0610b486422d4921ae7d2bf64640c50b  9b98b8c7a33c4b65b9aebfe6a799e6d9   \n",
       "1  78afa995795e4d85b5d9ceeca43f5fef  9b98b8c7a33c4b65b9aebfe6a799e6d9   \n",
       "2  e2127556f4f64592b11af22de27a7932  9b98b8c7a33c4b65b9aebfe6a799e6d9   \n",
       "3  389bc3fa690240e798340f5a15918d5c  9b98b8c7a33c4b65b9aebfe6a799e6d9   \n",
       "4  389bc3fa690240e798340f5a15918d5c  9b98b8c7a33c4b65b9aebfe6a799e6d9   \n",
       "\n",
       "   offer_viewed  offer_completed  offer_start_date  offer_end_date  \\\n",
       "0             0                0              17.0            24.0   \n",
       "1             1                1               0.0             7.0   \n",
       "2             1                0              17.0            24.0   \n",
       "3             1                0               7.0            14.0   \n",
       "4             1                1              17.0            24.0   \n",
       "\n",
       "   transaction_count  transaction_total gender  age  ...  difficulty  \\\n",
       "0                  0               0.00      F   55  ...           5   \n",
       "1                  2              37.67      F   75  ...           5   \n",
       "2                  0               0.00      M   68  ...           5   \n",
       "3                  0               0.00      M   65  ...           5   \n",
       "4                  1              15.63      M   65  ...           5   \n",
       "\n",
       "   duration  offer_type offer_type_bogo offer_type_discount  \\\n",
       "0         7        bogo               1                   0   \n",
       "1         7        bogo               1                   0   \n",
       "2         7        bogo               1                   0   \n",
       "3         7        bogo               1                   0   \n",
       "4         7        bogo               1                   0   \n",
       "\n",
       "   offer_type_informational  channel_email  channel_mobile  channel_social  \\\n",
       "0                         0              1               1               0   \n",
       "1                         0              1               1               0   \n",
       "2                         0              1               1               0   \n",
       "3                         0              1               1               0   \n",
       "4                         0              1               1               0   \n",
       "\n",
       "   channel_web  \n",
       "0            1  \n",
       "1            1  \n",
       "2            1  \n",
       "3            1  \n",
       "4            1  \n",
       "\n",
       "[5 rows x 44 columns]"
      ]
     },
     "metadata": {},
     "output_type": "display_data"
    }
   ],
   "source": [
    "offers = pd.merge(offers, profile, on='person_id')\n",
    "offers = pd.merge(offers, portfolio, on='offer_id')\n",
    "\n",
    "print(f'offers shape: {offers.shape}')\n",
    "display(offers.head())"
   ]
  },
  {
   "cell_type": "markdown",
   "metadata": {},
   "source": [
    "Create lists for offer and bin column names for easy filtering."
   ]
  },
  {
   "cell_type": "code",
   "execution_count": 16,
   "metadata": {},
   "outputs": [
    {
     "name": "stdout",
     "output_type": "stream",
     "text": [
      "offer column names: ['age__10s', 'age__20s', 'age__30s', 'age__40s', 'age__50s', 'age__60s', 'age__70s', 'age__80s', 'age__90s', 'age_100s']\n",
      "offer column names: ['income_25k+', 'income_50k+', 'income_75k+', 'income_100k+']\n",
      "offer column names: ['gender_F', 'gender_M', 'gender_O']\n",
      "offer column names: ['offer_viewed', 'offer_completed', 'offer_type', 'transaction_count', 'transaction_total']\n"
     ]
    }
   ],
   "source": [
    "\n",
    "age_column_names = [s for s in list(offers.columns) if re.compile('^age_').match(s)]\n",
    "income_column_names = [s for s in list(offers.columns) if re.compile('^income_').match(s)]\n",
    "gender_column_names = [s for s in list(offers.columns) if re.compile('^gender_').match(s)]\n",
    "# income_column_names = []\n",
    "\n",
    "offer_column_names = ['offer_viewed', 'offer_completed', 'offer_type', 'transaction_count', 'transaction_total']\n",
    "\n",
    "# offers_by_age = offers[[]]\n",
    "\n",
    "print(f'offer column names: {age_column_names}')\n",
    "print(f'offer column names: {income_column_names}')\n",
    "print(f'offer column names: {gender_column_names}')\n",
    "print(f'offer column names: {offer_column_names}')"
   ]
  },
  {
   "cell_type": "code",
   "execution_count": 27,
   "metadata": {},
   "outputs": [
    {
     "name": "stdout",
     "output_type": "stream",
     "text": [
      "number of offers sent: 26537\n",
      "number of offers not viewed: 4498\n",
      "number of offers viewed: 22039\n",
      "number of offers completed: 9687\n"
     ]
    },
    {
     "data": {
      "text/html": [
       "<div>\n",
       "<style scoped>\n",
       "    .dataframe tbody tr th:only-of-type {\n",
       "        vertical-align: middle;\n",
       "    }\n",
       "\n",
       "    .dataframe tbody tr th {\n",
       "        vertical-align: top;\n",
       "    }\n",
       "\n",
       "    .dataframe thead th {\n",
       "        text-align: right;\n",
       "    }\n",
       "</style>\n",
       "<table border=\"1\" class=\"dataframe\">\n",
       "  <thead>\n",
       "    <tr style=\"text-align: right;\">\n",
       "      <th></th>\n",
       "      <th>sent</th>\n",
       "      <th>viewed</th>\n",
       "      <th>completed</th>\n",
       "      <th>sent %</th>\n",
       "      <th>viewed %</th>\n",
       "      <th>completed %</th>\n",
       "      <th>average transaction</th>\n",
       "    </tr>\n",
       "  </thead>\n",
       "  <tbody>\n",
       "    <tr>\n",
       "      <th>10s</th>\n",
       "      <td>637</td>\n",
       "      <td>521</td>\n",
       "      <td>145</td>\n",
       "      <td>100</td>\n",
       "      <td>81.789639</td>\n",
       "      <td>22.762951</td>\n",
       "      <td>6.572222</td>\n",
       "    </tr>\n",
       "    <tr>\n",
       "      <th>20s</th>\n",
       "      <td>2440</td>\n",
       "      <td>1985</td>\n",
       "      <td>628</td>\n",
       "      <td>100</td>\n",
       "      <td>81.352459</td>\n",
       "      <td>25.737705</td>\n",
       "      <td>8.793507</td>\n",
       "    </tr>\n",
       "    <tr>\n",
       "      <th>30s</th>\n",
       "      <td>2833</td>\n",
       "      <td>2339</td>\n",
       "      <td>935</td>\n",
       "      <td>100</td>\n",
       "      <td>82.562654</td>\n",
       "      <td>33.003883</td>\n",
       "      <td>10.357227</td>\n",
       "    </tr>\n",
       "    <tr>\n",
       "      <th>40s</th>\n",
       "      <td>4309</td>\n",
       "      <td>3691</td>\n",
       "      <td>1668</td>\n",
       "      <td>100</td>\n",
       "      <td>85.657925</td>\n",
       "      <td>38.709677</td>\n",
       "      <td>13.633256</td>\n",
       "    </tr>\n",
       "    <tr>\n",
       "      <th>50s</th>\n",
       "      <td>6420</td>\n",
       "      <td>5305</td>\n",
       "      <td>2499</td>\n",
       "      <td>100</td>\n",
       "      <td>82.632399</td>\n",
       "      <td>38.925234</td>\n",
       "      <td>16.356842</td>\n",
       "    </tr>\n",
       "    <tr>\n",
       "      <th>60s</th>\n",
       "      <td>5218</td>\n",
       "      <td>4289</td>\n",
       "      <td>1966</td>\n",
       "      <td>100</td>\n",
       "      <td>82.196244</td>\n",
       "      <td>37.677271</td>\n",
       "      <td>15.687736</td>\n",
       "    </tr>\n",
       "    <tr>\n",
       "      <th>70s</th>\n",
       "      <td>2944</td>\n",
       "      <td>2443</td>\n",
       "      <td>1142</td>\n",
       "      <td>100</td>\n",
       "      <td>82.982337</td>\n",
       "      <td>38.790761</td>\n",
       "      <td>16.113625</td>\n",
       "    </tr>\n",
       "    <tr>\n",
       "      <th>80s</th>\n",
       "      <td>1326</td>\n",
       "      <td>1126</td>\n",
       "      <td>537</td>\n",
       "      <td>100</td>\n",
       "      <td>84.917044</td>\n",
       "      <td>40.497738</td>\n",
       "      <td>15.767035</td>\n",
       "    </tr>\n",
       "    <tr>\n",
       "      <th>90s</th>\n",
       "      <td>408</td>\n",
       "      <td>338</td>\n",
       "      <td>165</td>\n",
       "      <td>100</td>\n",
       "      <td>82.843137</td>\n",
       "      <td>40.441176</td>\n",
       "      <td>16.481094</td>\n",
       "    </tr>\n",
       "    <tr>\n",
       "      <th>100s</th>\n",
       "      <td>2</td>\n",
       "      <td>2</td>\n",
       "      <td>2</td>\n",
       "      <td>100</td>\n",
       "      <td>100.000000</td>\n",
       "      <td>100.000000</td>\n",
       "      <td>19.576667</td>\n",
       "    </tr>\n",
       "  </tbody>\n",
       "</table>\n",
       "</div>"
      ],
      "text/plain": [
       "      sent  viewed  completed  sent %    viewed %  completed %  \\\n",
       "10s    637     521        145     100   81.789639    22.762951   \n",
       "20s   2440    1985        628     100   81.352459    25.737705   \n",
       "30s   2833    2339        935     100   82.562654    33.003883   \n",
       "40s   4309    3691       1668     100   85.657925    38.709677   \n",
       "50s   6420    5305       2499     100   82.632399    38.925234   \n",
       "60s   5218    4289       1966     100   82.196244    37.677271   \n",
       "70s   2944    2443       1142     100   82.982337    38.790761   \n",
       "80s   1326    1126        537     100   84.917044    40.497738   \n",
       "90s    408     338        165     100   82.843137    40.441176   \n",
       "100s     2       2          2     100  100.000000   100.000000   \n",
       "\n",
       "      average transaction  \n",
       "10s              6.572222  \n",
       "20s              8.793507  \n",
       "30s             10.357227  \n",
       "40s             13.633256  \n",
       "50s             16.356842  \n",
       "60s             15.687736  \n",
       "70s             16.113625  \n",
       "80s             15.767035  \n",
       "90s             16.481094  \n",
       "100s            19.576667  "
      ]
     },
     "metadata": {},
     "output_type": "display_data"
    },
    {
     "data": {
      "text/plain": [
       "<AxesSubplot:title={'center':'BOGO Offers by Age'}>"
      ]
     },
     "metadata": {},
     "output_type": "display_data"
    },
    {
     "data": {
      "image/png": "[encoded data removed]",
      "text/plain": [
       "<Figure size 600x400 with 1 Axes>"
      ]
     },
     "metadata": {
      "needs_background": "light"
     },
     "output_type": "display_data"
    },
    {
     "data": {
      "text/plain": [
       "<AxesSubplot:title={'center':'BOGO Offers by Age'}>"
      ]
     },
     "metadata": {},
     "output_type": "display_data"
    },
    {
     "data": {
      "image/png": "[encoded data removed]",
      "text/plain": [
       "<Figure size 600x400 with 1 Axes>"
      ]
     },
     "metadata": {
      "needs_background": "light"
     },
     "output_type": "display_data"
    },
    {
     "data": {
      "text/plain": [
       "<AxesSubplot:title={'center':'BOGO Offers by Age'}>"
      ]
     },
     "metadata": {},
     "output_type": "display_data"
    },
    {
     "data": {
      "image/png": "[encoded data removed]",
      "text/plain": [
       "<Figure size 600x400 with 1 Axes>"
      ]
     },
     "metadata": {
      "needs_background": "light"
     },
     "output_type": "display_data"
    },
    {
     "name": "stdout",
     "output_type": "stream",
     "text": [
      "number of offers sent: 26537\n",
      "number of offers not viewed: 4498\n",
      "number of offers viewed: 22039\n",
      "number of offers completed: 9687\n"
     ]
    },
    {
     "data": {
      "text/html": [
       "<div>\n",
       "<style scoped>\n",
       "    .dataframe tbody tr th:only-of-type {\n",
       "        vertical-align: middle;\n",
       "    }\n",
       "\n",
       "    .dataframe tbody tr th {\n",
       "        vertical-align: top;\n",
       "    }\n",
       "\n",
       "    .dataframe thead th {\n",
       "        text-align: right;\n",
       "    }\n",
       "</style>\n",
       "<table border=\"1\" class=\"dataframe\">\n",
       "  <thead>\n",
       "    <tr style=\"text-align: right;\">\n",
       "      <th></th>\n",
       "      <th>sent</th>\n",
       "      <th>viewed</th>\n",
       "      <th>completed</th>\n",
       "      <th>sent %</th>\n",
       "      <th>viewed %</th>\n",
       "      <th>completed %</th>\n",
       "      <th>average transaction</th>\n",
       "    </tr>\n",
       "  </thead>\n",
       "  <tbody>\n",
       "    <tr>\n",
       "      <th>F</th>\n",
       "      <td>10975</td>\n",
       "      <td>9143</td>\n",
       "      <td>4765</td>\n",
       "      <td>100</td>\n",
       "      <td>83.307517</td>\n",
       "      <td>43.416856</td>\n",
       "      <td>17.492201</td>\n",
       "    </tr>\n",
       "    <tr>\n",
       "      <th>M</th>\n",
       "      <td>15208</td>\n",
       "      <td>12581</td>\n",
       "      <td>4750</td>\n",
       "      <td>100</td>\n",
       "      <td>82.726197</td>\n",
       "      <td>31.233561</td>\n",
       "      <td>11.307388</td>\n",
       "    </tr>\n",
       "    <tr>\n",
       "      <th>O</th>\n",
       "      <td>354</td>\n",
       "      <td>315</td>\n",
       "      <td>172</td>\n",
       "      <td>100</td>\n",
       "      <td>88.983051</td>\n",
       "      <td>48.587571</td>\n",
       "      <td>14.331734</td>\n",
       "    </tr>\n",
       "  </tbody>\n",
       "</table>\n",
       "</div>"
      ],
      "text/plain": [
       "    sent  viewed  completed  sent %   viewed %  completed %  \\\n",
       "F  10975    9143       4765     100  83.307517    43.416856   \n",
       "M  15208   12581       4750     100  82.726197    31.233561   \n",
       "O    354     315        172     100  88.983051    48.587571   \n",
       "\n",
       "   average transaction  \n",
       "F            17.492201  \n",
       "M            11.307388  \n",
       "O            14.331734  "
      ]
     },
     "metadata": {},
     "output_type": "display_data"
    },
    {
     "data": {
      "text/plain": [
       "<AxesSubplot:title={'center':'BOGO Offers by Gender'}>"
      ]
     },
     "metadata": {},
     "output_type": "display_data"
    },
    {
     "data": {
      "image/png": "[encoded data removed]",
      "text/plain": [
       "<Figure size 600x400 with 1 Axes>"
      ]
     },
     "metadata": {
      "needs_background": "light"
     },
     "output_type": "display_data"
    },
    {
     "data": {
      "text/plain": [
       "<AxesSubplot:title={'center':'BOGO Offers by Gender'}>"
      ]
     },
     "metadata": {},
     "output_type": "display_data"
    },
    {
     "data": {
      "image/png": "[encoded data removed]",
      "text/plain": [
       "<Figure size 600x400 with 1 Axes>"
      ]
     },
     "metadata": {
      "needs_background": "light"
     },
     "output_type": "display_data"
    },
    {
     "data": {
      "text/plain": [
       "<AxesSubplot:title={'center':'BOGO Offers by Gender'}>"
      ]
     },
     "metadata": {},
     "output_type": "display_data"
    },
    {
     "data": {
      "image/png": "[encoded data removed]",
      "text/plain": [
       "<Figure size 600x400 with 1 Axes>"
      ]
     },
     "metadata": {
      "needs_background": "light"
     },
     "output_type": "display_data"
    },
    {
     "name": "stdout",
     "output_type": "stream",
     "text": [
      "number of offers sent: 26537\n",
      "number of offers not viewed: 4498\n",
      "number of offers viewed: 22039\n",
      "number of offers completed: 9687\n"
     ]
    },
    {
     "data": {
      "text/html": [
       "<div>\n",
       "<style scoped>\n",
       "    .dataframe tbody tr th:only-of-type {\n",
       "        vertical-align: middle;\n",
       "    }\n",
       "\n",
       "    .dataframe tbody tr th {\n",
       "        vertical-align: top;\n",
       "    }\n",
       "\n",
       "    .dataframe thead th {\n",
       "        text-align: right;\n",
       "    }\n",
       "</style>\n",
       "<table border=\"1\" class=\"dataframe\">\n",
       "  <thead>\n",
       "    <tr style=\"text-align: right;\">\n",
       "      <th></th>\n",
       "      <th>sent</th>\n",
       "      <th>viewed</th>\n",
       "      <th>completed</th>\n",
       "      <th>sent %</th>\n",
       "      <th>viewed %</th>\n",
       "      <th>completed %</th>\n",
       "      <th>average transaction</th>\n",
       "    </tr>\n",
       "  </thead>\n",
       "  <tbody>\n",
       "    <tr>\n",
       "      <th>25k+</th>\n",
       "      <td>7254</td>\n",
       "      <td>5820</td>\n",
       "      <td>1727</td>\n",
       "      <td>100</td>\n",
       "      <td>80.231596</td>\n",
       "      <td>23.807554</td>\n",
       "      <td>6.825615</td>\n",
       "    </tr>\n",
       "    <tr>\n",
       "      <th>50k+</th>\n",
       "      <td>11500</td>\n",
       "      <td>9801</td>\n",
       "      <td>4328</td>\n",
       "      <td>100</td>\n",
       "      <td>85.226087</td>\n",
       "      <td>37.634783</td>\n",
       "      <td>12.497289</td>\n",
       "    </tr>\n",
       "    <tr>\n",
       "      <th>75k+</th>\n",
       "      <td>5959</td>\n",
       "      <td>5039</td>\n",
       "      <td>2818</td>\n",
       "      <td>100</td>\n",
       "      <td>84.561168</td>\n",
       "      <td>47.289814</td>\n",
       "      <td>27.092164</td>\n",
       "    </tr>\n",
       "    <tr>\n",
       "      <th>100k+</th>\n",
       "      <td>1824</td>\n",
       "      <td>1379</td>\n",
       "      <td>814</td>\n",
       "      <td>100</td>\n",
       "      <td>75.603070</td>\n",
       "      <td>44.627193</td>\n",
       "      <td>31.379254</td>\n",
       "    </tr>\n",
       "  </tbody>\n",
       "</table>\n",
       "</div>"
      ],
      "text/plain": [
       "        sent  viewed  completed  sent %   viewed %  completed %  \\\n",
       "25k+    7254    5820       1727     100  80.231596    23.807554   \n",
       "50k+   11500    9801       4328     100  85.226087    37.634783   \n",
       "75k+    5959    5039       2818     100  84.561168    47.289814   \n",
       "100k+   1824    1379        814     100  75.603070    44.627193   \n",
       "\n",
       "       average transaction  \n",
       "25k+              6.825615  \n",
       "50k+             12.497289  \n",
       "75k+             27.092164  \n",
       "100k+            31.379254  "
      ]
     },
     "metadata": {},
     "output_type": "display_data"
    },
    {
     "data": {
      "text/plain": [
       "<AxesSubplot:title={'center':'BOGO Offers by Income'}>"
      ]
     },
     "metadata": {},
     "output_type": "display_data"
    },
    {
     "data": {
      "image/png": "[encoded data removed]",
      "text/plain": [
       "<Figure size 600x400 with 1 Axes>"
      ]
     },
     "metadata": {
      "needs_background": "light"
     },
     "output_type": "display_data"
    },
    {
     "data": {
      "text/plain": [
       "<AxesSubplot:title={'center':'BOGO Offers by Income'}>"
      ]
     },
     "metadata": {},
     "output_type": "display_data"
    },
    {
     "data": {
      "image/png": "[encoded data removed]",
      "text/plain": [
       "<Figure size 600x400 with 1 Axes>"
      ]
     },
     "metadata": {
      "needs_background": "light"
     },
     "output_type": "display_data"
    },
    {
     "data": {
      "text/plain": [
       "<AxesSubplot:title={'center':'BOGO Offers by Income'}>"
      ]
     },
     "metadata": {},
     "output_type": "display_data"
    },
    {
     "data": {
      "image/png": "[encoded data removed]",
      "text/plain": [
       "<Figure size 600x400 with 1 Axes>"
      ]
     },
     "metadata": {
      "needs_background": "light"
     },
     "output_type": "display_data"
    },
    {
     "name": "stdout",
     "output_type": "stream",
     "text": [
      "number of offers sent: 26664\n",
      "number of offers not viewed: 8203\n",
      "number of offers viewed: 18461\n",
      "number of offers completed: 9890\n"
     ]
    },
    {
     "data": {
      "text/html": [
       "<div>\n",
       "<style scoped>\n",
       "    .dataframe tbody tr th:only-of-type {\n",
       "        vertical-align: middle;\n",
       "    }\n",
       "\n",
       "    .dataframe tbody tr th {\n",
       "        vertical-align: top;\n",
       "    }\n",
       "\n",
       "    .dataframe thead th {\n",
       "        text-align: right;\n",
       "    }\n",
       "</style>\n",
       "<table border=\"1\" class=\"dataframe\">\n",
       "  <thead>\n",
       "    <tr style=\"text-align: right;\">\n",
       "      <th></th>\n",
       "      <th>sent</th>\n",
       "      <th>viewed</th>\n",
       "      <th>completed</th>\n",
       "      <th>sent %</th>\n",
       "      <th>viewed %</th>\n",
       "      <th>completed %</th>\n",
       "      <th>average transaction</th>\n",
       "    </tr>\n",
       "  </thead>\n",
       "  <tbody>\n",
       "    <tr>\n",
       "      <th>10s</th>\n",
       "      <td>563</td>\n",
       "      <td>330</td>\n",
       "      <td>155</td>\n",
       "      <td>100</td>\n",
       "      <td>58.614565</td>\n",
       "      <td>27.531083</td>\n",
       "      <td>8.660478</td>\n",
       "    </tr>\n",
       "    <tr>\n",
       "      <th>20s</th>\n",
       "      <td>2547</td>\n",
       "      <td>1520</td>\n",
       "      <td>719</td>\n",
       "      <td>100</td>\n",
       "      <td>59.678053</td>\n",
       "      <td>28.229289</td>\n",
       "      <td>8.150670</td>\n",
       "    </tr>\n",
       "    <tr>\n",
       "      <th>30s</th>\n",
       "      <td>2939</td>\n",
       "      <td>1951</td>\n",
       "      <td>1035</td>\n",
       "      <td>100</td>\n",
       "      <td>66.383124</td>\n",
       "      <td>35.216060</td>\n",
       "      <td>10.382795</td>\n",
       "    </tr>\n",
       "    <tr>\n",
       "      <th>40s</th>\n",
       "      <td>4189</td>\n",
       "      <td>3056</td>\n",
       "      <td>1642</td>\n",
       "      <td>100</td>\n",
       "      <td>72.952972</td>\n",
       "      <td>39.197899</td>\n",
       "      <td>14.120447</td>\n",
       "    </tr>\n",
       "    <tr>\n",
       "      <th>50s</th>\n",
       "      <td>6484</td>\n",
       "      <td>4552</td>\n",
       "      <td>2484</td>\n",
       "      <td>100</td>\n",
       "      <td>70.203578</td>\n",
       "      <td>38.309685</td>\n",
       "      <td>17.290619</td>\n",
       "    </tr>\n",
       "    <tr>\n",
       "      <th>60s</th>\n",
       "      <td>5287</td>\n",
       "      <td>3798</td>\n",
       "      <td>2065</td>\n",
       "      <td>100</td>\n",
       "      <td>71.836580</td>\n",
       "      <td>39.058067</td>\n",
       "      <td>16.827827</td>\n",
       "    </tr>\n",
       "    <tr>\n",
       "      <th>70s</th>\n",
       "      <td>2918</td>\n",
       "      <td>2035</td>\n",
       "      <td>1121</td>\n",
       "      <td>100</td>\n",
       "      <td>69.739548</td>\n",
       "      <td>38.416724</td>\n",
       "      <td>17.820666</td>\n",
       "    </tr>\n",
       "    <tr>\n",
       "      <th>80s</th>\n",
       "      <td>1350</td>\n",
       "      <td>951</td>\n",
       "      <td>527</td>\n",
       "      <td>100</td>\n",
       "      <td>70.444444</td>\n",
       "      <td>39.037037</td>\n",
       "      <td>18.630410</td>\n",
       "    </tr>\n",
       "    <tr>\n",
       "      <th>90s</th>\n",
       "      <td>373</td>\n",
       "      <td>259</td>\n",
       "      <td>136</td>\n",
       "      <td>100</td>\n",
       "      <td>69.436997</td>\n",
       "      <td>36.461126</td>\n",
       "      <td>18.370588</td>\n",
       "    </tr>\n",
       "    <tr>\n",
       "      <th>100s</th>\n",
       "      <td>14</td>\n",
       "      <td>9</td>\n",
       "      <td>6</td>\n",
       "      <td>100</td>\n",
       "      <td>64.285714</td>\n",
       "      <td>42.857143</td>\n",
       "      <td>19.169583</td>\n",
       "    </tr>\n",
       "  </tbody>\n",
       "</table>\n",
       "</div>"
      ],
      "text/plain": [
       "      sent  viewed  completed  sent %   viewed %  completed %  \\\n",
       "10s    563     330        155     100  58.614565    27.531083   \n",
       "20s   2547    1520        719     100  59.678053    28.229289   \n",
       "30s   2939    1951       1035     100  66.383124    35.216060   \n",
       "40s   4189    3056       1642     100  72.952972    39.197899   \n",
       "50s   6484    4552       2484     100  70.203578    38.309685   \n",
       "60s   5287    3798       2065     100  71.836580    39.058067   \n",
       "70s   2918    2035       1121     100  69.739548    38.416724   \n",
       "80s   1350     951        527     100  70.444444    39.037037   \n",
       "90s    373     259        136     100  69.436997    36.461126   \n",
       "100s    14       9          6     100  64.285714    42.857143   \n",
       "\n",
       "      average transaction  \n",
       "10s              8.660478  \n",
       "20s              8.150670  \n",
       "30s             10.382795  \n",
       "40s             14.120447  \n",
       "50s             17.290619  \n",
       "60s             16.827827  \n",
       "70s             17.820666  \n",
       "80s             18.630410  \n",
       "90s             18.370588  \n",
       "100s            19.169583  "
      ]
     },
     "metadata": {},
     "output_type": "display_data"
    },
    {
     "data": {
      "text/plain": [
       "<AxesSubplot:title={'center':'Discount Offers by Age'}>"
      ]
     },
     "metadata": {},
     "output_type": "display_data"
    },
    {
     "data": {
      "image/png": "[encoded data removed]",
      "text/plain": [
       "<Figure size 600x400 with 1 Axes>"
      ]
     },
     "metadata": {
      "needs_background": "light"
     },
     "output_type": "display_data"
    },
    {
     "data": {
      "text/plain": [
       "<AxesSubplot:title={'center':'Discount Offers by Age'}>"
      ]
     },
     "metadata": {},
     "output_type": "display_data"
    },
    {
     "data": {
      "image/png": "[encoded data removed]",
      "text/plain": [
       "<Figure size 600x400 with 1 Axes>"
      ]
     },
     "metadata": {
      "needs_background": "light"
     },
     "output_type": "display_data"
    },
    {
     "data": {
      "text/plain": [
       "<AxesSubplot:title={'center':'Discount Offers by Age'}>"
      ]
     },
     "metadata": {},
     "output_type": "display_data"
    },
    {
     "data": {
      "image/png": "[encoded data removed]",
      "text/plain": [
       "<Figure size 600x400 with 1 Axes>"
      ]
     },
     "metadata": {
      "needs_background": "light"
     },
     "output_type": "display_data"
    },
    {
     "name": "stdout",
     "output_type": "stream",
     "text": [
      "number of offers sent: 26664\n",
      "number of offers not viewed: 8203\n",
      "number of offers viewed: 18461\n",
      "number of offers completed: 9890\n"
     ]
    },
    {
     "data": {
      "text/html": [
       "<div>\n",
       "<style scoped>\n",
       "    .dataframe tbody tr th:only-of-type {\n",
       "        vertical-align: middle;\n",
       "    }\n",
       "\n",
       "    .dataframe tbody tr th {\n",
       "        vertical-align: top;\n",
       "    }\n",
       "\n",
       "    .dataframe thead th {\n",
       "        text-align: right;\n",
       "    }\n",
       "</style>\n",
       "<table border=\"1\" class=\"dataframe\">\n",
       "  <thead>\n",
       "    <tr style=\"text-align: right;\">\n",
       "      <th></th>\n",
       "      <th>sent</th>\n",
       "      <th>viewed</th>\n",
       "      <th>completed</th>\n",
       "      <th>sent %</th>\n",
       "      <th>viewed %</th>\n",
       "      <th>completed %</th>\n",
       "      <th>average transaction</th>\n",
       "    </tr>\n",
       "  </thead>\n",
       "  <tbody>\n",
       "    <tr>\n",
       "      <th>F</th>\n",
       "      <td>10943</td>\n",
       "      <td>7733</td>\n",
       "      <td>4517</td>\n",
       "      <td>100</td>\n",
       "      <td>70.666179</td>\n",
       "      <td>41.277529</td>\n",
       "      <td>17.901514</td>\n",
       "    </tr>\n",
       "    <tr>\n",
       "      <th>M</th>\n",
       "      <td>15354</td>\n",
       "      <td>10431</td>\n",
       "      <td>5208</td>\n",
       "      <td>100</td>\n",
       "      <td>67.936694</td>\n",
       "      <td>33.919500</td>\n",
       "      <td>12.417766</td>\n",
       "    </tr>\n",
       "    <tr>\n",
       "      <th>O</th>\n",
       "      <td>367</td>\n",
       "      <td>297</td>\n",
       "      <td>165</td>\n",
       "      <td>100</td>\n",
       "      <td>80.926431</td>\n",
       "      <td>44.959128</td>\n",
       "      <td>16.913035</td>\n",
       "    </tr>\n",
       "  </tbody>\n",
       "</table>\n",
       "</div>"
      ],
      "text/plain": [
       "    sent  viewed  completed  sent %   viewed %  completed %  \\\n",
       "F  10943    7733       4517     100  70.666179    41.277529   \n",
       "M  15354   10431       5208     100  67.936694    33.919500   \n",
       "O    367     297        165     100  80.926431    44.959128   \n",
       "\n",
       "   average transaction  \n",
       "F            17.901514  \n",
       "M            12.417766  \n",
       "O            16.913035  "
      ]
     },
     "metadata": {},
     "output_type": "display_data"
    },
    {
     "data": {
      "text/plain": [
       "<AxesSubplot:title={'center':'Discount Offers by Gender'}>"
      ]
     },
     "metadata": {},
     "output_type": "display_data"
    },
    {
     "data": {
      "image/png": "[encoded data removed]",
      "text/plain": [
       "<Figure size 600x400 with 1 Axes>"
      ]
     },
     "metadata": {
      "needs_background": "light"
     },
     "output_type": "display_data"
    },
    {
     "data": {
      "text/plain": [
       "<AxesSubplot:title={'center':'Discount Offers by Gender'}>"
      ]
     },
     "metadata": {},
     "output_type": "display_data"
    },
    {
     "data": {
      "image/png": "[encoded data removed]",
      "text/plain": [
       "<Figure size 600x400 with 1 Axes>"
      ]
     },
     "metadata": {
      "needs_background": "light"
     },
     "output_type": "display_data"
    },
    {
     "data": {
      "text/plain": [
       "<AxesSubplot:title={'center':'Discount Offers by Gender'}>"
      ]
     },
     "metadata": {},
     "output_type": "display_data"
    },
    {
     "data": {
      "image/png": "[encoded data removed]",
      "text/plain": [
       "<Figure size 600x400 with 1 Axes>"
      ]
     },
     "metadata": {
      "needs_background": "light"
     },
     "output_type": "display_data"
    },
    {
     "name": "stdout",
     "output_type": "stream",
     "text": [
      "number of offers sent: 26664\n",
      "number of offers not viewed: 8203\n",
      "number of offers viewed: 18461\n",
      "number of offers completed: 9890\n"
     ]
    },
    {
     "data": {
      "text/html": [
       "<div>\n",
       "<style scoped>\n",
       "    .dataframe tbody tr th:only-of-type {\n",
       "        vertical-align: middle;\n",
       "    }\n",
       "\n",
       "    .dataframe tbody tr th {\n",
       "        vertical-align: top;\n",
       "    }\n",
       "\n",
       "    .dataframe thead th {\n",
       "        text-align: right;\n",
       "    }\n",
       "</style>\n",
       "<table border=\"1\" class=\"dataframe\">\n",
       "  <thead>\n",
       "    <tr style=\"text-align: right;\">\n",
       "      <th></th>\n",
       "      <th>sent</th>\n",
       "      <th>viewed</th>\n",
       "      <th>completed</th>\n",
       "      <th>sent %</th>\n",
       "      <th>viewed %</th>\n",
       "      <th>completed %</th>\n",
       "      <th>average transaction</th>\n",
       "    </tr>\n",
       "  </thead>\n",
       "  <tbody>\n",
       "    <tr>\n",
       "      <th>25k+</th>\n",
       "      <td>7268</td>\n",
       "      <td>4324</td>\n",
       "      <td>2016</td>\n",
       "      <td>100</td>\n",
       "      <td>59.493671</td>\n",
       "      <td>27.738030</td>\n",
       "      <td>7.051803</td>\n",
       "    </tr>\n",
       "    <tr>\n",
       "      <th>50k+</th>\n",
       "      <td>11588</td>\n",
       "      <td>8340</td>\n",
       "      <td>4454</td>\n",
       "      <td>100</td>\n",
       "      <td>71.971004</td>\n",
       "      <td>38.436313</td>\n",
       "      <td>13.067720</td>\n",
       "    </tr>\n",
       "    <tr>\n",
       "      <th>75k+</th>\n",
       "      <td>5995</td>\n",
       "      <td>4677</td>\n",
       "      <td>2736</td>\n",
       "      <td>100</td>\n",
       "      <td>78.015013</td>\n",
       "      <td>45.638032</td>\n",
       "      <td>26.763306</td>\n",
       "    </tr>\n",
       "    <tr>\n",
       "      <th>100k+</th>\n",
       "      <td>1813</td>\n",
       "      <td>1120</td>\n",
       "      <td>684</td>\n",
       "      <td>100</td>\n",
       "      <td>61.776062</td>\n",
       "      <td>37.727523</td>\n",
       "      <td>30.632680</td>\n",
       "    </tr>\n",
       "  </tbody>\n",
       "</table>\n",
       "</div>"
      ],
      "text/plain": [
       "        sent  viewed  completed  sent %   viewed %  completed %  \\\n",
       "25k+    7268    4324       2016     100  59.493671    27.738030   \n",
       "50k+   11588    8340       4454     100  71.971004    38.436313   \n",
       "75k+    5995    4677       2736     100  78.015013    45.638032   \n",
       "100k+   1813    1120        684     100  61.776062    37.727523   \n",
       "\n",
       "       average transaction  \n",
       "25k+              7.051803  \n",
       "50k+             13.067720  \n",
       "75k+             26.763306  \n",
       "100k+            30.632680  "
      ]
     },
     "metadata": {},
     "output_type": "display_data"
    },
    {
     "data": {
      "text/plain": [
       "<AxesSubplot:title={'center':'Discount Offers by Income'}>"
      ]
     },
     "metadata": {},
     "output_type": "display_data"
    },
    {
     "data": {
      "image/png": "[encoded data removed]",
      "text/plain": [
       "<Figure size 600x400 with 1 Axes>"
      ]
     },
     "metadata": {
      "needs_background": "light"
     },
     "output_type": "display_data"
    },
    {
     "data": {
      "text/plain": [
       "<AxesSubplot:title={'center':'Discount Offers by Income'}>"
      ]
     },
     "metadata": {},
     "output_type": "display_data"
    },
    {
     "data": {
      "image/png": "[encoded data removed]",
      "text/plain": [
       "<Figure size 600x400 with 1 Axes>"
      ]
     },
     "metadata": {
      "needs_background": "light"
     },
     "output_type": "display_data"
    },
    {
     "data": {
      "text/plain": [
       "<AxesSubplot:title={'center':'Discount Offers by Income'}>"
      ]
     },
     "metadata": {},
     "output_type": "display_data"
    },
    {
     "data": {
      "image/png": "[encoded data removed]",
      "text/plain": [
       "<Figure size 600x400 with 1 Axes>"
      ]
     },
     "metadata": {
      "needs_background": "light"
     },
     "output_type": "display_data"
    }
   ],
   "source": [
    "def rename_binned_index_names(df):\n",
    "    new_index_names = {}\n",
    "    for i in list(df.index):\n",
    "        new_index_names[i] = i.split('_')[-1]\n",
    "    df.rename(index=new_index_names, inplace=True)\n",
    "    return df\n",
    "\n",
    "def bar_plot_offer_columns(o, cols, title):\n",
    "    print(f'number of offers sent: {o[cols].shape[0]}')\n",
    "    print(f'number of offers not viewed: {o.loc[o.offer_viewed==False][cols].shape[0]}')\n",
    "    print(f'number of offers viewed: {o.loc[o.offer_viewed==True][cols].shape[0]}')\n",
    "    print(f'number of offers completed: {o.loc[o.offer_completed==True][cols].shape[0]}')\n",
    "\n",
    "    offer_count_by_col = pd.DataFrame()\n",
    "\n",
    "    offer_count_by_col['sent'] = o[cols].sum()\n",
    "    offer_count_by_col['viewed'] = o.loc[o.offer_viewed==1][cols].sum()\n",
    "    offer_count_by_col['completed'] = o.loc[o.offer_completed==1][cols].sum()\n",
    "\n",
    "    offer_count_by_col['sent %'] = 100\n",
    "    offer_count_by_col['viewed %'] = offer_count_by_col['viewed'] / offer_count_by_col['sent'] * 100\n",
    "    offer_count_by_col['completed %'] = offer_count_by_col['completed'] / offer_count_by_col['sent'] * 100\n",
    "\n",
    "    offer_count_by_col['tcount'] = o[cols].multiply(o.transaction_count, axis=0).sum()\n",
    "    offer_count_by_col['ttotal'] = o[cols].multiply(o.transaction_total, axis=0).sum()\n",
    "    offer_count_by_col['average transaction'] = offer_count_by_col['ttotal'] / offer_count_by_col['tcount']\n",
    "    offer_count_by_col.drop(columns=['tcount', 'ttotal'], inplace=True)\n",
    "\n",
    "    offer_count_by_col = rename_binned_index_names(offer_count_by_col)\n",
    "\n",
    "    display(offer_count_by_col)\n",
    "\n",
    "    display(offer_count_by_col[['sent', 'viewed', 'completed']].plot.bar(title=title, rot=0))\n",
    "    plt.show()\n",
    "\n",
    "    display(offer_count_by_col[['sent %', 'viewed %', 'completed %']].plot.bar(title=title, rot=0))\n",
    "    plt.show()\n",
    "\n",
    "    display(offer_count_by_col[['average transaction']].plot.bar(title=title, rot=0))\n",
    "    plt.show()\n",
    "    \n",
    "bar_plot_offer_columns(offers.loc[offers.offer_type=='bogo'], age_column_names, 'BOGO Offers by Age')\n",
    "bar_plot_offer_columns(offers.loc[offers.offer_type=='bogo'], gender_column_names, 'BOGO Offers by Gender')\n",
    "bar_plot_offer_columns(offers.loc[offers.offer_type=='bogo'], income_column_names, 'BOGO Offers by Income')\n",
    "\n",
    "bar_plot_offer_columns(offers.loc[offers.offer_type=='discount'], age_column_names, 'Discount Offers by Age')\n",
    "bar_plot_offer_columns(offers.loc[offers.offer_type=='discount'], gender_column_names, 'Discount Offers by Gender')\n",
    "bar_plot_offer_columns(offers.loc[offers.offer_type=='discount'], income_column_names, 'Discount Offers by Income')\n",
    "\n"
   ]
  }
 ],
 "metadata": {
  "kernelspec": {
   "display_name": "Python 3.8.5 ('election')",
   "language": "python",
   "name": "python3"
  },
  "language_info": {
   "codemirror_mode": {
    "name": "ipython",
    "version": 3
   },
   "file_extension": ".py",
   "mimetype": "text/x-python",
   "name": "python",
   "nbconvert_exporter": "python",
   "pygments_lexer": "ipython3",
   "version": "3.9.7"
  },
  "vscode": {
   "interpreter": {
    "hash": "33b93d23a773afe827d18689c27fb6ba75b812dc84557e430a4bf0d39e1c15aa"
   }
  }
 },
 "nbformat": 4,
 "nbformat_minor": 2
}
